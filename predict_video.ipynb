{
 "cells": [
  {
   "cell_type": "code",
   "execution_count": 39,
   "id": "initial_id",
   "metadata": {
    "collapsed": true,
    "ExecuteTime": {
     "end_time": "2024-01-05T14:38:01.456992Z",
     "start_time": "2024-01-05T14:38:01.302588Z"
    }
   },
   "outputs": [],
   "source": [
    "import copy\n",
    "import cv2\n",
    "import torch\n",
    "import torchvision.transforms as transforms\n",
    "from torchsummary import summary\n",
    "from torch.utils.data import DataLoader\n",
    "import numpy as np\n",
    "from model import YOLOv1,YOLO_Quant,CNNBlock\n",
    "from utils import convert_cellboxes\n",
    "from dataset import COCODataset\n",
    "from train import Compose"
   ]
  },
  {
   "cell_type": "code",
   "execution_count": 2,
   "outputs": [
    {
     "name": "stdout",
     "output_type": "stream",
     "text": [
      "cpu\n"
     ]
    }
   ],
   "source": [
    "DEVICE = \"cuda\" if torch.cuda.is_available() else \"cpu\"\n",
    "IMAGE_SIZE = 88\n",
    "S = 4\n",
    "print(DEVICE)"
   ],
   "metadata": {
    "collapsed": false,
    "ExecuteTime": {
     "end_time": "2024-01-05T13:54:05.804321Z",
     "start_time": "2024-01-05T13:54:05.790416Z"
    }
   },
   "id": "6fd640fd37273c01"
  },
  {
   "cell_type": "code",
   "execution_count": 3,
   "outputs": [],
   "source": [
    "def cellboxes_to_boxes(out, S=S):\n",
    "    converted_pred = convert_cellboxes(out,S)\n",
    "    converted_pred = converted_pred.reshape(out.shape[0], S * S, -1)\n",
    "    return converted_pred.tolist()"
   ],
   "metadata": {
    "collapsed": false,
    "ExecuteTime": {
     "end_time": "2024-01-05T13:54:05.804503Z",
     "start_time": "2024-01-05T13:54:05.794617Z"
    }
   },
   "id": "34698468cf47d2d"
  },
  {
   "cell_type": "code",
   "execution_count": 4,
   "outputs": [],
   "source": [
    "def non_max_suppression(bboxes, threshold):\n",
    "    assert type(bboxes) == list\n",
    "    bboxes = [box for box in bboxes if box[0] > threshold]\n",
    "    return bboxes"
   ],
   "metadata": {
    "collapsed": false,
    "ExecuteTime": {
     "end_time": "2024-01-05T13:54:05.808669Z",
     "start_time": "2024-01-05T13:54:05.802541Z"
    }
   },
   "id": "67282ea665d2a1da"
  },
  {
   "cell_type": "code",
   "execution_count": 28,
   "outputs": [
    {
     "name": "stdout",
     "output_type": "stream",
     "text": [
      "Downloading split 'train' to '/Users/lukas/fiftyone/coco-2017/train' if necessary\n",
      "Found annotations at '/Users/lukas/fiftyone/coco-2017/raw/instances_train2017.json'\n",
      "Sufficient images already downloaded\n",
      "Existing download of split 'train' is sufficient\n",
      "Loading existing dataset 'coco-2017-train-1000'. To reload from disk, either delete the existing dataset or provide a custom `dataset_name` to use\n"
     ]
    }
   ],
   "source": [
    "transform = Compose([transforms.Resize((88, 88)), transforms.ToTensor()])\n",
    "calibrate_dataset_1000 = COCODataset(transform=transform,dataset_size=1000)\n",
    "calibrate_dataset_1000.load_dataset()\n",
    "calibrate_loader = DataLoader(dataset=calibrate_dataset_1000, batch_size=64, num_workers=0)"
   ],
   "metadata": {
    "collapsed": false,
    "ExecuteTime": {
     "end_time": "2024-01-05T14:18:46.518257Z",
     "start_time": "2024-01-05T14:18:20.133964Z"
    }
   },
   "id": "3812c38781d1c9b5"
  },
  {
   "cell_type": "code",
   "execution_count": 34,
   "outputs": [
    {
     "data": {
      "text/plain": "YOLO_Quant(\n  (darknet): Sequential(\n    (0): CNNBlock(\n      (conv): Conv2d(1, 16, kernel_size=(3, 3), stride=(1, 1), padding=(1, 1), bias=False)\n      (batchnorm): BatchNorm2d(16, eps=1e-05, momentum=0.1, affine=True, track_running_stats=True)\n      (relu): ReLU()\n    )\n    (1): CNNBlock(\n      (conv): Conv2d(16, 16, kernel_size=(3, 3), stride=(1, 1), padding=(1, 1), bias=False)\n      (batchnorm): BatchNorm2d(16, eps=1e-05, momentum=0.1, affine=True, track_running_stats=True)\n      (relu): ReLU()\n    )\n    (2): MaxPool2d(kernel_size=(2, 2), stride=(2, 2), padding=0, dilation=1, ceil_mode=False)\n    (3): CNNBlock(\n      (conv): Conv2d(16, 16, kernel_size=(3, 3), stride=(1, 1), padding=(1, 1), bias=False)\n      (batchnorm): BatchNorm2d(16, eps=1e-05, momentum=0.1, affine=True, track_running_stats=True)\n      (relu): ReLU()\n    )\n    (4): CNNBlock(\n      (conv): Conv2d(16, 32, kernel_size=(3, 3), stride=(1, 1), padding=(1, 1), bias=False)\n      (batchnorm): BatchNorm2d(32, eps=1e-05, momentum=0.1, affine=True, track_running_stats=True)\n      (relu): ReLU()\n    )\n    (5): MaxPool2d(kernel_size=(2, 2), stride=(2, 2), padding=0, dilation=1, ceil_mode=False)\n    (6): CNNBlock(\n      (conv): Conv2d(32, 32, kernel_size=(3, 3), stride=(1, 1), padding=(1, 1), bias=False)\n      (batchnorm): BatchNorm2d(32, eps=1e-05, momentum=0.1, affine=True, track_running_stats=True)\n      (relu): ReLU()\n    )\n    (7): CNNBlock(\n      (conv): Conv2d(32, 64, kernel_size=(3, 3), stride=(1, 1), padding=(1, 1), bias=False)\n      (batchnorm): BatchNorm2d(64, eps=1e-05, momentum=0.1, affine=True, track_running_stats=True)\n      (relu): ReLU()\n    )\n    (8): MaxPool2d(kernel_size=(2, 2), stride=(2, 2), padding=0, dilation=1, ceil_mode=False)\n    (9): CNNBlock(\n      (conv): Conv2d(64, 64, kernel_size=(3, 3), stride=(1, 1), padding=(1, 1), bias=False)\n      (batchnorm): BatchNorm2d(64, eps=1e-05, momentum=0.1, affine=True, track_running_stats=True)\n      (relu): ReLU()\n    )\n    (10): CNNBlock(\n      (conv): Conv2d(64, 64, kernel_size=(3, 3), stride=(1, 1), padding=(1, 1), bias=False)\n      (batchnorm): BatchNorm2d(64, eps=1e-05, momentum=0.1, affine=True, track_running_stats=True)\n      (relu): ReLU()\n    )\n    (11): MaxPool2d(kernel_size=(2, 2), stride=(2, 2), padding=0, dilation=1, ceil_mode=False)\n    (12): CNNBlock(\n      (conv): Conv2d(64, 128, kernel_size=(3, 3), stride=(1, 1), padding=(1, 1), bias=False)\n      (batchnorm): BatchNorm2d(128, eps=1e-05, momentum=0.1, affine=True, track_running_stats=True)\n      (relu): ReLU()\n    )\n    (13): CNNBlock(\n      (conv): Conv2d(128, 128, kernel_size=(3, 3), stride=(1, 1), padding=(1, 1), bias=False)\n      (batchnorm): BatchNorm2d(128, eps=1e-05, momentum=0.1, affine=True, track_running_stats=True)\n      (relu): ReLU()\n    )\n    (14): MaxPool2d(kernel_size=(2, 2), stride=(2, 2), padding=0, dilation=1, ceil_mode=False)\n  )\n  (fcs): Sequential(\n    (0): Flatten(start_dim=1, end_dim=-1)\n    (1): Linear(in_features=512, out_features=160, bias=True)\n    (2): ReLU()\n    (3): Dropout(p=0.5, inplace=False)\n  )\n  (quant): QuantStub()\n  (dequant): DeQuantStub()\n)"
     },
     "execution_count": 34,
     "metadata": {},
     "output_type": "execute_result"
    }
   ],
   "source": [
    "# load model\n",
    "model = YOLO_Quant().to(DEVICE)\n",
    "#checkpoint = torch.load('overfit.pth.tar', map_location=torch.device(DEVICE))\n",
    "#model.load_state_dict(checkpoint[\"state_dict\"])\n",
    "model.eval()"
   ],
   "metadata": {
    "collapsed": false,
    "ExecuteTime": {
     "end_time": "2024-01-05T14:36:22.034145Z",
     "start_time": "2024-01-05T14:36:22.019513Z"
    }
   },
   "id": "b032ec4500bc154a"
  },
  {
   "cell_type": "code",
   "execution_count": 35,
   "outputs": [],
   "source": [
    "def fuse_CNN_layers(model):\n",
    "    for name, module in model.named_children():\n",
    "        if name == 'darknet':\n",
    "            for idx, sub_module in enumerate(module):\n",
    "                if isinstance(sub_module,CNNBlock):\n",
    "                    torch.ao.quantization.fuse_modules(sub_module,[['conv', 'batchnorm']],inplace=True)\n",
    "        #if name == 'fcs':\n",
    "            #torch.ao.quantization.fuse_modules(module,[['1', '2']],inplace=True)    "
   ],
   "metadata": {
    "collapsed": false,
    "ExecuteTime": {
     "end_time": "2024-01-05T14:36:22.569250Z",
     "start_time": "2024-01-05T14:36:22.551690Z"
    }
   },
   "id": "5e423380a8570d85"
  },
  {
   "cell_type": "code",
   "execution_count": 36,
   "outputs": [],
   "source": [
    "def calibrate_model(model,dataset):\n",
    "    for x,_ in dataset:\n",
    "        model(x.to(DEVICE))\n",
    "        break"
   ],
   "metadata": {
    "collapsed": false,
    "ExecuteTime": {
     "end_time": "2024-01-05T14:36:23.182797Z",
     "start_time": "2024-01-05T14:36:23.147532Z"
    }
   },
   "id": "450772768eaba68f"
  },
  {
   "cell_type": "code",
   "execution_count": 37,
   "outputs": [
    {
     "name": "stdout",
     "output_type": "stream",
     "text": [
      "YOLO_Quant(\n",
      "  (darknet): Sequential(\n",
      "    (0): CNNBlock(\n",
      "      (conv): Conv2d(1, 16, kernel_size=(3, 3), stride=(1, 1), padding=(1, 1))\n",
      "      (batchnorm): Identity()\n",
      "      (relu): ReLU()\n",
      "    )\n",
      "    (1): CNNBlock(\n",
      "      (conv): Conv2d(16, 16, kernel_size=(3, 3), stride=(1, 1), padding=(1, 1))\n",
      "      (batchnorm): Identity()\n",
      "      (relu): ReLU()\n",
      "    )\n",
      "    (2): MaxPool2d(kernel_size=(2, 2), stride=(2, 2), padding=0, dilation=1, ceil_mode=False)\n",
      "    (3): CNNBlock(\n",
      "      (conv): Conv2d(16, 16, kernel_size=(3, 3), stride=(1, 1), padding=(1, 1))\n",
      "      (batchnorm): Identity()\n",
      "      (relu): ReLU()\n",
      "    )\n",
      "    (4): CNNBlock(\n",
      "      (conv): Conv2d(16, 32, kernel_size=(3, 3), stride=(1, 1), padding=(1, 1))\n",
      "      (batchnorm): Identity()\n",
      "      (relu): ReLU()\n",
      "    )\n",
      "    (5): MaxPool2d(kernel_size=(2, 2), stride=(2, 2), padding=0, dilation=1, ceil_mode=False)\n",
      "    (6): CNNBlock(\n",
      "      (conv): Conv2d(32, 32, kernel_size=(3, 3), stride=(1, 1), padding=(1, 1))\n",
      "      (batchnorm): Identity()\n",
      "      (relu): ReLU()\n",
      "    )\n",
      "    (7): CNNBlock(\n",
      "      (conv): Conv2d(32, 64, kernel_size=(3, 3), stride=(1, 1), padding=(1, 1))\n",
      "      (batchnorm): Identity()\n",
      "      (relu): ReLU()\n",
      "    )\n",
      "    (8): MaxPool2d(kernel_size=(2, 2), stride=(2, 2), padding=0, dilation=1, ceil_mode=False)\n",
      "    (9): CNNBlock(\n",
      "      (conv): Conv2d(64, 64, kernel_size=(3, 3), stride=(1, 1), padding=(1, 1))\n",
      "      (batchnorm): Identity()\n",
      "      (relu): ReLU()\n",
      "    )\n",
      "    (10): CNNBlock(\n",
      "      (conv): Conv2d(64, 64, kernel_size=(3, 3), stride=(1, 1), padding=(1, 1))\n",
      "      (batchnorm): Identity()\n",
      "      (relu): ReLU()\n",
      "    )\n",
      "    (11): MaxPool2d(kernel_size=(2, 2), stride=(2, 2), padding=0, dilation=1, ceil_mode=False)\n",
      "    (12): CNNBlock(\n",
      "      (conv): Conv2d(64, 128, kernel_size=(3, 3), stride=(1, 1), padding=(1, 1))\n",
      "      (batchnorm): Identity()\n",
      "      (relu): ReLU()\n",
      "    )\n",
      "    (13): CNNBlock(\n",
      "      (conv): Conv2d(128, 128, kernel_size=(3, 3), stride=(1, 1), padding=(1, 1))\n",
      "      (batchnorm): Identity()\n",
      "      (relu): ReLU()\n",
      "    )\n",
      "    (14): MaxPool2d(kernel_size=(2, 2), stride=(2, 2), padding=0, dilation=1, ceil_mode=False)\n",
      "  )\n",
      "  (fcs): Sequential(\n",
      "    (0): Flatten(start_dim=1, end_dim=-1)\n",
      "    (1): Linear(in_features=512, out_features=160, bias=True)\n",
      "    (2): ReLU()\n",
      "    (3): Dropout(p=0.5, inplace=False)\n",
      "  )\n",
      "  (quant): QuantStub()\n",
      "  (dequant): DeQuantStub()\n",
      ")\n"
     ]
    }
   ],
   "source": [
    "##--------------------Quantize model--------------------##\n",
    "# turn model in eval mode\n",
    "model.eval()\n",
    "# set quantization backend\n",
    "backend = \"qnnpack\"\n",
    "model.qconfig = torch.ao.quantization.get_default_qconfig(backend)\n",
    "# first fuse modules\n",
    "fuse_CNN_layers(model)\n",
    "print(model)\n",
    "# then prepare model for static quantization\n",
    "model_static_prepared = torch.ao.quantization.prepare(model, inplace=False)\n",
    "# calibrate with representative dataset\n",
    "calibrate_model(model_static_prepared,calibrate_loader)\n",
    "# quantize model\n",
    "model_static_quantized = torch.ao.quantization.convert(model_static_prepared, inplace=False)"
   ],
   "metadata": {
    "collapsed": false,
    "ExecuteTime": {
     "end_time": "2024-01-05T14:36:24.628975Z",
     "start_time": "2024-01-05T14:36:23.367717Z"
    }
   },
   "id": "6a6f1a2d76f9673c"
  },
  {
   "cell_type": "code",
   "execution_count": 15,
   "outputs": [],
   "source": [
    "def print_model_size(model):\n",
    "    param_size = 0\n",
    "    for param in model.parameters():\n",
    "        param_size += param.nelement() * param.element_size()\n",
    "    buffer_size = 0\n",
    "    for buffer in model.buffers():\n",
    "        buffer_size += buffer.nelement() * buffer.element_size()\n",
    "    \n",
    "    size_all_mb = (param_size + buffer_size) / 1024**2\n",
    "    print('model size: {:.3f}MB'.format(size_all_mb))"
   ],
   "metadata": {
    "collapsed": false,
    "ExecuteTime": {
     "end_time": "2024-01-05T13:54:53.760380Z",
     "start_time": "2024-01-05T13:54:53.746581Z"
    }
   },
   "id": "7ae377798ec4a9a0"
  },
  {
   "cell_type": "code",
   "execution_count": 40,
   "outputs": [
    {
     "name": "stdout",
     "output_type": "stream",
     "text": [
      "Exported graph: graph(%x.1 : Float(1, 1, 88, 88, strides=[7744, 7744, 88, 1], requires_grad=0, device=cpu)):\n",
      "  %/quant/Constant_output_0 : Byte(requires_grad=0, device=cpu) = onnx::Constant[value={0}, onnx_name=\"/quant/Constant\"](), scope: model.YOLO_Quant::/torch.ao.nn.quantized.modules.Quantize::quant # /usr/local/anaconda3/envs/machineLearning/lib/python3.11/site-packages/torch/ao/nn/quantized/modules/__init__.py:97:0\n",
      "  %/quant/Constant_1_output_0 : Float(requires_grad=0, device=cpu) = onnx::Constant[value={0.00391965}, onnx_name=\"/quant/Constant_1\"](), scope: model.YOLO_Quant::/torch.ao.nn.quantized.modules.Quantize::quant # /usr/local/anaconda3/envs/machineLearning/lib/python3.11/site-packages/torch/ao/nn/quantized/modules/__init__.py:97:0\n",
      "  %/quant/QuantizeLinear_output_0 : Byte(1, 1, 88, 88, strides=[7744, 7744, 88, 1], device=cpu) = onnx::QuantizeLinear[onnx_name=\"/quant/QuantizeLinear\"](%x.1, %/quant/Constant_1_output_0, %/quant/Constant_output_0), scope: model.YOLO_Quant::/torch.ao.nn.quantized.modules.Quantize::quant # /usr/local/anaconda3/envs/machineLearning/lib/python3.11/site-packages/torch/ao/nn/quantized/modules/__init__.py:97:0\n",
      "  %/darknet/0/conv/Cast_output_0 : Byte(1, 1, 88, 88, strides=[7744, 7744, 88, 1], device=cpu) = onnx::Cast[to=2, onnx_name=\"/darknet/0/conv/Cast\"](%/quant/QuantizeLinear_output_0), scope: model.YOLO_Quant::/torch.nn.modules.container.Sequential::darknet/model.CNNBlock::0/torch.ao.nn.quantized.modules.conv.Conv2d::conv # /usr/local/anaconda3/envs/machineLearning/lib/python3.11/site-packages/torch/_ops.py:692:0\n",
      "  %/darknet/0/conv/Constant_output_0 : Float(requires_grad=0, device=cpu) = onnx::Constant[value={0.00391965}, onnx_name=\"/darknet/0/conv/Constant\"](), scope: model.YOLO_Quant::/torch.nn.modules.container.Sequential::darknet/model.CNNBlock::0/torch.ao.nn.quantized.modules.conv.Conv2d::conv # /usr/local/anaconda3/envs/machineLearning/lib/python3.11/site-packages/torch/_ops.py:692:0\n",
      "  %/darknet/0/conv/Constant_1_output_0 : Byte(requires_grad=0, device=cpu) = onnx::Constant[value={0}, onnx_name=\"/darknet/0/conv/Constant_1\"](), scope: model.YOLO_Quant::/torch.nn.modules.container.Sequential::darknet/model.CNNBlock::0/torch.ao.nn.quantized.modules.conv.Conv2d::conv # /usr/local/anaconda3/envs/machineLearning/lib/python3.11/site-packages/torch/_ops.py:692:0\n",
      "  %/darknet/0/conv/DequantizeLinear_output_0 : Float(1, 1, 88, 88, strides=[7744, 7744, 88, 1], device=cpu) = onnx::DequantizeLinear[onnx_name=\"/darknet/0/conv/DequantizeLinear\"](%/darknet/0/conv/Cast_output_0, %/darknet/0/conv/Constant_output_0, %/darknet/0/conv/Constant_1_output_0), scope: model.YOLO_Quant::/torch.nn.modules.container.Sequential::darknet/model.CNNBlock::0/torch.ao.nn.quantized.modules.conv.Conv2d::conv # /usr/local/anaconda3/envs/machineLearning/lib/python3.11/site-packages/torch/_ops.py:692:0\n",
      "  %/darknet/0/conv/Constant_2_output_0 : Char(16, 1, 3, 3, strides=[9, 1, 3, 1], requires_grad=0, device=cpu) = onnx::Constant[value=<Tensor>, onnx_name=\"/darknet/0/conv/Constant_2\"](), scope: model.YOLO_Quant::/torch.nn.modules.container.Sequential::darknet/model.CNNBlock::0/torch.ao.nn.quantized.modules.conv.Conv2d::conv # /usr/local/anaconda3/envs/machineLearning/lib/python3.11/site-packages/torch/_ops.py:692:0\n",
      "  %/darknet/0/conv/Constant_3_output_0 : Float(1, strides=[1], requires_grad=0, device=cpu) = onnx::Constant[value={0.00261287}, onnx_name=\"/darknet/0/conv/Constant_3\"](), scope: model.YOLO_Quant::/torch.nn.modules.container.Sequential::darknet/model.CNNBlock::0/torch.ao.nn.quantized.modules.conv.Conv2d::conv # /usr/local/anaconda3/envs/machineLearning/lib/python3.11/site-packages/torch/_ops.py:692:0\n",
      "  %/darknet/0/conv/Constant_4_output_0 : Char(1, strides=[1], requires_grad=0, device=cpu) = onnx::Constant[value={0}, onnx_name=\"/darknet/0/conv/Constant_4\"](), scope: model.YOLO_Quant::/torch.nn.modules.container.Sequential::darknet/model.CNNBlock::0/torch.ao.nn.quantized.modules.conv.Conv2d::conv # /usr/local/anaconda3/envs/machineLearning/lib/python3.11/site-packages/torch/_ops.py:692:0\n",
      "  %/darknet/0/conv/DequantizeLinear_1_output_0 : Float(16, 1, 3, 3, strides=[9, 9, 3, 1], device=cpu) = onnx::DequantizeLinear[onnx_name=\"/darknet/0/conv/DequantizeLinear_1\"](%/darknet/0/conv/Constant_2_output_0, %/darknet/0/conv/Constant_3_output_0, %/darknet/0/conv/Constant_4_output_0), scope: model.YOLO_Quant::/torch.nn.modules.container.Sequential::darknet/model.CNNBlock::0/torch.ao.nn.quantized.modules.conv.Conv2d::conv # /usr/local/anaconda3/envs/machineLearning/lib/python3.11/site-packages/torch/_ops.py:692:0\n",
      "  %/darknet/0/conv/Constant_5_output_0 : Long(1, strides=[1], requires_grad=0, device=cpu) = onnx::Constant[value={1}, onnx_name=\"/darknet/0/conv/Constant_5\"](), scope: model.YOLO_Quant::/torch.nn.modules.container.Sequential::darknet/model.CNNBlock::0/torch.ao.nn.quantized.modules.conv.Conv2d::conv # /usr/local/anaconda3/envs/machineLearning/lib/python3.11/site-packages/torch/_ops.py:692:0\n",
      "  %/darknet/0/conv/ConstantOfShape_output_0 : Int(1, strides=[1], device=cpu) = onnx::ConstantOfShape[value={0}, onnx_name=\"/darknet/0/conv/ConstantOfShape\"](%/darknet/0/conv/Constant_5_output_0), scope: model.YOLO_Quant::/torch.nn.modules.container.Sequential::darknet/model.CNNBlock::0/torch.ao.nn.quantized.modules.conv.Conv2d::conv # /usr/local/anaconda3/envs/machineLearning/lib/python3.11/site-packages/torch/_ops.py:692:0\n",
      "  %/darknet/0/conv/Constant_6_output_0 : Int(16, strides=[1], requires_grad=0, device=cpu) = onnx::Constant[value=<Tensor>, onnx_name=\"/darknet/0/conv/Constant_6\"](), scope: model.YOLO_Quant::/torch.nn.modules.container.Sequential::darknet/model.CNNBlock::0/torch.ao.nn.quantized.modules.conv.Conv2d::conv # /usr/local/anaconda3/envs/machineLearning/lib/python3.11/site-packages/torch/_ops.py:692:0\n",
      "  %/darknet/0/conv/Constant_7_output_0 : Float(1, strides=[1], requires_grad=0, device=cpu) = onnx::Constant[value={1.02415e-05}, onnx_name=\"/darknet/0/conv/Constant_7\"](), scope: model.YOLO_Quant::/torch.nn.modules.container.Sequential::darknet/model.CNNBlock::0/torch.ao.nn.quantized.modules.conv.Conv2d::conv # /usr/local/anaconda3/envs/machineLearning/lib/python3.11/site-packages/torch/_ops.py:692:0\n",
      "  %/darknet/0/conv/Cast_1_output_0 : Int(1, strides=[1], device=cpu) = onnx::Cast[to=6, onnx_name=\"/darknet/0/conv/Cast_1\"](%/darknet/0/conv/ConstantOfShape_output_0), scope: model.YOLO_Quant::/torch.nn.modules.container.Sequential::darknet/model.CNNBlock::0/torch.ao.nn.quantized.modules.conv.Conv2d::conv # /usr/local/anaconda3/envs/machineLearning/lib/python3.11/site-packages/torch/_ops.py:692:0\n",
      "  %/darknet/0/conv/DequantizeLinear_2_output_0 : Float(16, strides=[1], device=cpu) = onnx::DequantizeLinear[onnx_name=\"/darknet/0/conv/DequantizeLinear_2\"](%/darknet/0/conv/Constant_6_output_0, %/darknet/0/conv/Constant_7_output_0, %/darknet/0/conv/Cast_1_output_0), scope: model.YOLO_Quant::/torch.nn.modules.container.Sequential::darknet/model.CNNBlock::0/torch.ao.nn.quantized.modules.conv.Conv2d::conv # /usr/local/anaconda3/envs/machineLearning/lib/python3.11/site-packages/torch/_ops.py:692:0\n",
      "  %/darknet/0/conv/Conv_output_0 : Float(1, 16, 88, 88, strides=[123904, 7744, 88, 1], device=cpu) = onnx::Conv[dilations=[1, 1], group=1, kernel_shape=[3, 3], pads=[1, 1, 1, 1], strides=[1, 1], onnx_name=\"/darknet/0/conv/Conv\"](%/darknet/0/conv/DequantizeLinear_output_0, %/darknet/0/conv/DequantizeLinear_1_output_0, %/darknet/0/conv/DequantizeLinear_2_output_0), scope: model.YOLO_Quant::/torch.nn.modules.container.Sequential::darknet/model.CNNBlock::0/torch.ao.nn.quantized.modules.conv.Conv2d::conv # /usr/local/anaconda3/envs/machineLearning/lib/python3.11/site-packages/torch/_ops.py:692:0\n",
      "  %/darknet/0/conv/Constant_8_output_0 : Float(requires_grad=0, device=cpu) = onnx::Constant[value={0.00852465}, onnx_name=\"/darknet/0/conv/Constant_8\"](), scope: model.YOLO_Quant::/torch.nn.modules.container.Sequential::darknet/model.CNNBlock::0/torch.ao.nn.quantized.modules.conv.Conv2d::conv # /usr/local/anaconda3/envs/machineLearning/lib/python3.11/site-packages/torch/_ops.py:692:0\n",
      "  %/darknet/0/conv/Constant_9_output_0 : Byte(requires_grad=0, device=cpu) = onnx::Constant[value={69}, onnx_name=\"/darknet/0/conv/Constant_9\"](), scope: model.YOLO_Quant::/torch.nn.modules.container.Sequential::darknet/model.CNNBlock::0/torch.ao.nn.quantized.modules.conv.Conv2d::conv # /usr/local/anaconda3/envs/machineLearning/lib/python3.11/site-packages/torch/_ops.py:692:0\n",
      "  %/darknet/0/conv/QuantizeLinear_output_0 : Byte(1, 16, 88, 88, strides=[123904, 7744, 88, 1], device=cpu) = onnx::QuantizeLinear[onnx_name=\"/darknet/0/conv/QuantizeLinear\"](%/darknet/0/conv/Conv_output_0, %/darknet/0/conv/Constant_8_output_0, %/darknet/0/conv/Constant_9_output_0), scope: model.YOLO_Quant::/torch.nn.modules.container.Sequential::darknet/model.CNNBlock::0/torch.ao.nn.quantized.modules.conv.Conv2d::conv # /usr/local/anaconda3/envs/machineLearning/lib/python3.11/site-packages/torch/_ops.py:692:0\n",
      "  %/darknet/0/relu/Cast_output_0 : Byte(1, 16, 88, 88, strides=[123904, 7744, 88, 1], device=cpu) = onnx::Cast[to=2, onnx_name=\"/darknet/0/relu/Cast\"](%/darknet/0/conv/QuantizeLinear_output_0), scope: model.YOLO_Quant::/torch.nn.modules.container.Sequential::darknet/model.CNNBlock::0/torch.nn.modules.activation.ReLU::relu # /usr/local/anaconda3/envs/machineLearning/lib/python3.11/site-packages/torch/nn/functional.py:1471:0\n",
      "  %/darknet/0/relu/Constant_output_0 : Float(requires_grad=0, device=cpu) = onnx::Constant[value={0.00852465}, onnx_name=\"/darknet/0/relu/Constant\"](), scope: model.YOLO_Quant::/torch.nn.modules.container.Sequential::darknet/model.CNNBlock::0/torch.nn.modules.activation.ReLU::relu # /usr/local/anaconda3/envs/machineLearning/lib/python3.11/site-packages/torch/nn/functional.py:1471:0\n",
      "  %/darknet/0/relu/Constant_1_output_0 : Byte(requires_grad=0, device=cpu) = onnx::Constant[value={69}, onnx_name=\"/darknet/0/relu/Constant_1\"](), scope: model.YOLO_Quant::/torch.nn.modules.container.Sequential::darknet/model.CNNBlock::0/torch.nn.modules.activation.ReLU::relu # /usr/local/anaconda3/envs/machineLearning/lib/python3.11/site-packages/torch/nn/functional.py:1471:0\n",
      "  %/darknet/0/relu/DequantizeLinear_output_0 : Float(1, 16, 88, 88, strides=[123904, 7744, 88, 1], device=cpu) = onnx::DequantizeLinear[onnx_name=\"/darknet/0/relu/DequantizeLinear\"](%/darknet/0/relu/Cast_output_0, %/darknet/0/relu/Constant_output_0, %/darknet/0/relu/Constant_1_output_0), scope: model.YOLO_Quant::/torch.nn.modules.container.Sequential::darknet/model.CNNBlock::0/torch.nn.modules.activation.ReLU::relu # /usr/local/anaconda3/envs/machineLearning/lib/python3.11/site-packages/torch/nn/functional.py:1471:0\n",
      "  %/darknet/0/relu/Relu_output_0 : Float(1, 16, 88, 88, strides=[123904, 7744, 88, 1], device=cpu) = onnx::Relu[onnx_name=\"/darknet/0/relu/Relu\"](%/darknet/0/relu/DequantizeLinear_output_0), scope: model.YOLO_Quant::/torch.nn.modules.container.Sequential::darknet/model.CNNBlock::0/torch.nn.modules.activation.ReLU::relu # /usr/local/anaconda3/envs/machineLearning/lib/python3.11/site-packages/torch/nn/functional.py:1471:0\n",
      "  %/darknet/0/relu/QuantizeLinear_output_0 : Byte(1, 16, 88, 88, strides=[123904, 7744, 88, 1], device=cpu) = onnx::QuantizeLinear[onnx_name=\"/darknet/0/relu/QuantizeLinear\"](%/darknet/0/relu/Relu_output_0, %/darknet/0/relu/Constant_output_0, %/darknet/0/relu/Constant_1_output_0), scope: model.YOLO_Quant::/torch.nn.modules.container.Sequential::darknet/model.CNNBlock::0/torch.nn.modules.activation.ReLU::relu # /usr/local/anaconda3/envs/machineLearning/lib/python3.11/site-packages/torch/nn/functional.py:1471:0\n",
      "  %/darknet/1/conv/Cast_output_0 : Byte(1, 16, 88, 88, strides=[123904, 7744, 88, 1], device=cpu) = onnx::Cast[to=2, onnx_name=\"/darknet/1/conv/Cast\"](%/darknet/0/relu/QuantizeLinear_output_0), scope: model.YOLO_Quant::/torch.nn.modules.container.Sequential::darknet/model.CNNBlock::1/torch.ao.nn.quantized.modules.conv.Conv2d::conv # /usr/local/anaconda3/envs/machineLearning/lib/python3.11/site-packages/torch/_ops.py:692:0\n",
      "  %/darknet/1/conv/Constant_output_0 : Float(requires_grad=0, device=cpu) = onnx::Constant[value={0.00852465}, onnx_name=\"/darknet/1/conv/Constant\"](), scope: model.YOLO_Quant::/torch.nn.modules.container.Sequential::darknet/model.CNNBlock::1/torch.ao.nn.quantized.modules.conv.Conv2d::conv # /usr/local/anaconda3/envs/machineLearning/lib/python3.11/site-packages/torch/_ops.py:692:0\n",
      "  %/darknet/1/conv/Constant_1_output_0 : Byte(requires_grad=0, device=cpu) = onnx::Constant[value={69}, onnx_name=\"/darknet/1/conv/Constant_1\"](), scope: model.YOLO_Quant::/torch.nn.modules.container.Sequential::darknet/model.CNNBlock::1/torch.ao.nn.quantized.modules.conv.Conv2d::conv # /usr/local/anaconda3/envs/machineLearning/lib/python3.11/site-packages/torch/_ops.py:692:0\n",
      "  %/darknet/1/conv/DequantizeLinear_output_0 : Float(1, 16, 88, 88, strides=[123904, 7744, 88, 1], device=cpu) = onnx::DequantizeLinear[onnx_name=\"/darknet/1/conv/DequantizeLinear\"](%/darknet/1/conv/Cast_output_0, %/darknet/1/conv/Constant_output_0, %/darknet/1/conv/Constant_1_output_0), scope: model.YOLO_Quant::/torch.nn.modules.container.Sequential::darknet/model.CNNBlock::1/torch.ao.nn.quantized.modules.conv.Conv2d::conv # /usr/local/anaconda3/envs/machineLearning/lib/python3.11/site-packages/torch/_ops.py:692:0\n",
      "  %/darknet/1/conv/Constant_2_output_0 : Char(16, 16, 3, 3, strides=[144, 1, 48, 16], requires_grad=0, device=cpu) = onnx::Constant[value=<Tensor>, onnx_name=\"/darknet/1/conv/Constant_2\"](), scope: model.YOLO_Quant::/torch.nn.modules.container.Sequential::darknet/model.CNNBlock::1/torch.ao.nn.quantized.modules.conv.Conv2d::conv # /usr/local/anaconda3/envs/machineLearning/lib/python3.11/site-packages/torch/_ops.py:692:0\n",
      "  %/darknet/1/conv/Constant_3_output_0 : Float(1, strides=[1], requires_grad=0, device=cpu) = onnx::Constant[value={0.000653507}, onnx_name=\"/darknet/1/conv/Constant_3\"](), scope: model.YOLO_Quant::/torch.nn.modules.container.Sequential::darknet/model.CNNBlock::1/torch.ao.nn.quantized.modules.conv.Conv2d::conv # /usr/local/anaconda3/envs/machineLearning/lib/python3.11/site-packages/torch/_ops.py:692:0\n",
      "  %/darknet/1/conv/Constant_4_output_0 : Char(1, strides=[1], requires_grad=0, device=cpu) = onnx::Constant[value={0}, onnx_name=\"/darknet/1/conv/Constant_4\"](), scope: model.YOLO_Quant::/torch.nn.modules.container.Sequential::darknet/model.CNNBlock::1/torch.ao.nn.quantized.modules.conv.Conv2d::conv # /usr/local/anaconda3/envs/machineLearning/lib/python3.11/site-packages/torch/_ops.py:692:0\n",
      "  %/darknet/1/conv/DequantizeLinear_1_output_0 : Float(16, 16, 3, 3, strides=[144, 9, 3, 1], device=cpu) = onnx::DequantizeLinear[onnx_name=\"/darknet/1/conv/DequantizeLinear_1\"](%/darknet/1/conv/Constant_2_output_0, %/darknet/1/conv/Constant_3_output_0, %/darknet/1/conv/Constant_4_output_0), scope: model.YOLO_Quant::/torch.nn.modules.container.Sequential::darknet/model.CNNBlock::1/torch.ao.nn.quantized.modules.conv.Conv2d::conv # /usr/local/anaconda3/envs/machineLearning/lib/python3.11/site-packages/torch/_ops.py:692:0\n",
      "  %/darknet/1/conv/Constant_5_output_0 : Long(1, strides=[1], requires_grad=0, device=cpu) = onnx::Constant[value={1}, onnx_name=\"/darknet/1/conv/Constant_5\"](), scope: model.YOLO_Quant::/torch.nn.modules.container.Sequential::darknet/model.CNNBlock::1/torch.ao.nn.quantized.modules.conv.Conv2d::conv # /usr/local/anaconda3/envs/machineLearning/lib/python3.11/site-packages/torch/_ops.py:692:0\n",
      "  %/darknet/1/conv/ConstantOfShape_output_0 : Int(1, strides=[1], device=cpu) = onnx::ConstantOfShape[value={0}, onnx_name=\"/darknet/1/conv/ConstantOfShape\"](%/darknet/1/conv/Constant_5_output_0), scope: model.YOLO_Quant::/torch.nn.modules.container.Sequential::darknet/model.CNNBlock::1/torch.ao.nn.quantized.modules.conv.Conv2d::conv # /usr/local/anaconda3/envs/machineLearning/lib/python3.11/site-packages/torch/_ops.py:692:0\n",
      "  %/darknet/1/conv/Constant_6_output_0 : Int(16, strides=[1], requires_grad=0, device=cpu) = onnx::Constant[value=<Tensor>, onnx_name=\"/darknet/1/conv/Constant_6\"](), scope: model.YOLO_Quant::/torch.nn.modules.container.Sequential::darknet/model.CNNBlock::1/torch.ao.nn.quantized.modules.conv.Conv2d::conv # /usr/local/anaconda3/envs/machineLearning/lib/python3.11/site-packages/torch/_ops.py:692:0\n",
      "  %/darknet/1/conv/Constant_7_output_0 : Float(1, strides=[1], requires_grad=0, device=cpu) = onnx::Constant[value={5.57092e-06}, onnx_name=\"/darknet/1/conv/Constant_7\"](), scope: model.YOLO_Quant::/torch.nn.modules.container.Sequential::darknet/model.CNNBlock::1/torch.ao.nn.quantized.modules.conv.Conv2d::conv # /usr/local/anaconda3/envs/machineLearning/lib/python3.11/site-packages/torch/_ops.py:692:0\n",
      "  %/darknet/1/conv/Cast_1_output_0 : Int(1, strides=[1], device=cpu) = onnx::Cast[to=6, onnx_name=\"/darknet/1/conv/Cast_1\"](%/darknet/1/conv/ConstantOfShape_output_0), scope: model.YOLO_Quant::/torch.nn.modules.container.Sequential::darknet/model.CNNBlock::1/torch.ao.nn.quantized.modules.conv.Conv2d::conv # /usr/local/anaconda3/envs/machineLearning/lib/python3.11/site-packages/torch/_ops.py:692:0\n",
      "  %/darknet/1/conv/DequantizeLinear_2_output_0 : Float(16, strides=[1], device=cpu) = onnx::DequantizeLinear[onnx_name=\"/darknet/1/conv/DequantizeLinear_2\"](%/darknet/1/conv/Constant_6_output_0, %/darknet/1/conv/Constant_7_output_0, %/darknet/1/conv/Cast_1_output_0), scope: model.YOLO_Quant::/torch.nn.modules.container.Sequential::darknet/model.CNNBlock::1/torch.ao.nn.quantized.modules.conv.Conv2d::conv # /usr/local/anaconda3/envs/machineLearning/lib/python3.11/site-packages/torch/_ops.py:692:0\n",
      "  %/darknet/1/conv/Conv_output_0 : Float(1, 16, 88, 88, strides=[123904, 7744, 88, 1], device=cpu) = onnx::Conv[dilations=[1, 1], group=1, kernel_shape=[3, 3], pads=[1, 1, 1, 1], strides=[1, 1], onnx_name=\"/darknet/1/conv/Conv\"](%/darknet/1/conv/DequantizeLinear_output_0, %/darknet/1/conv/DequantizeLinear_1_output_0, %/darknet/1/conv/DequantizeLinear_2_output_0), scope: model.YOLO_Quant::/torch.nn.modules.container.Sequential::darknet/model.CNNBlock::1/torch.ao.nn.quantized.modules.conv.Conv2d::conv # /usr/local/anaconda3/envs/machineLearning/lib/python3.11/site-packages/torch/_ops.py:692:0\n",
      "  %/darknet/1/conv/Constant_8_output_0 : Float(requires_grad=0, device=cpu) = onnx::Constant[value={0.00497147}, onnx_name=\"/darknet/1/conv/Constant_8\"](), scope: model.YOLO_Quant::/torch.nn.modules.container.Sequential::darknet/model.CNNBlock::1/torch.ao.nn.quantized.modules.conv.Conv2d::conv # /usr/local/anaconda3/envs/machineLearning/lib/python3.11/site-packages/torch/_ops.py:692:0\n",
      "  %/darknet/1/conv/Constant_9_output_0 : Byte(requires_grad=0, device=cpu) = onnx::Constant[value={135}, onnx_name=\"/darknet/1/conv/Constant_9\"](), scope: model.YOLO_Quant::/torch.nn.modules.container.Sequential::darknet/model.CNNBlock::1/torch.ao.nn.quantized.modules.conv.Conv2d::conv # /usr/local/anaconda3/envs/machineLearning/lib/python3.11/site-packages/torch/_ops.py:692:0\n",
      "  %/darknet/1/conv/QuantizeLinear_output_0 : Byte(1, 16, 88, 88, strides=[123904, 7744, 88, 1], device=cpu) = onnx::QuantizeLinear[onnx_name=\"/darknet/1/conv/QuantizeLinear\"](%/darknet/1/conv/Conv_output_0, %/darknet/1/conv/Constant_8_output_0, %/darknet/1/conv/Constant_9_output_0), scope: model.YOLO_Quant::/torch.nn.modules.container.Sequential::darknet/model.CNNBlock::1/torch.ao.nn.quantized.modules.conv.Conv2d::conv # /usr/local/anaconda3/envs/machineLearning/lib/python3.11/site-packages/torch/_ops.py:692:0\n",
      "  %/darknet/1/relu/Cast_output_0 : Byte(1, 16, 88, 88, strides=[123904, 7744, 88, 1], device=cpu) = onnx::Cast[to=2, onnx_name=\"/darknet/1/relu/Cast\"](%/darknet/1/conv/QuantizeLinear_output_0), scope: model.YOLO_Quant::/torch.nn.modules.container.Sequential::darknet/model.CNNBlock::1/torch.nn.modules.activation.ReLU::relu # /usr/local/anaconda3/envs/machineLearning/lib/python3.11/site-packages/torch/nn/functional.py:1471:0\n",
      "  %/darknet/1/relu/Constant_output_0 : Float(requires_grad=0, device=cpu) = onnx::Constant[value={0.00497147}, onnx_name=\"/darknet/1/relu/Constant\"](), scope: model.YOLO_Quant::/torch.nn.modules.container.Sequential::darknet/model.CNNBlock::1/torch.nn.modules.activation.ReLU::relu # /usr/local/anaconda3/envs/machineLearning/lib/python3.11/site-packages/torch/nn/functional.py:1471:0\n",
      "  %/darknet/1/relu/Constant_1_output_0 : Byte(requires_grad=0, device=cpu) = onnx::Constant[value={135}, onnx_name=\"/darknet/1/relu/Constant_1\"](), scope: model.YOLO_Quant::/torch.nn.modules.container.Sequential::darknet/model.CNNBlock::1/torch.nn.modules.activation.ReLU::relu # /usr/local/anaconda3/envs/machineLearning/lib/python3.11/site-packages/torch/nn/functional.py:1471:0\n",
      "  %/darknet/1/relu/DequantizeLinear_output_0 : Float(1, 16, 88, 88, strides=[123904, 7744, 88, 1], device=cpu) = onnx::DequantizeLinear[onnx_name=\"/darknet/1/relu/DequantizeLinear\"](%/darknet/1/relu/Cast_output_0, %/darknet/1/relu/Constant_output_0, %/darknet/1/relu/Constant_1_output_0), scope: model.YOLO_Quant::/torch.nn.modules.container.Sequential::darknet/model.CNNBlock::1/torch.nn.modules.activation.ReLU::relu # /usr/local/anaconda3/envs/machineLearning/lib/python3.11/site-packages/torch/nn/functional.py:1471:0\n",
      "  %/darknet/1/relu/Relu_output_0 : Float(1, 16, 88, 88, strides=[123904, 7744, 88, 1], device=cpu) = onnx::Relu[onnx_name=\"/darknet/1/relu/Relu\"](%/darknet/1/relu/DequantizeLinear_output_0), scope: model.YOLO_Quant::/torch.nn.modules.container.Sequential::darknet/model.CNNBlock::1/torch.nn.modules.activation.ReLU::relu # /usr/local/anaconda3/envs/machineLearning/lib/python3.11/site-packages/torch/nn/functional.py:1471:0\n",
      "  %/darknet/1/relu/QuantizeLinear_output_0 : Byte(1, 16, 88, 88, strides=[123904, 7744, 88, 1], device=cpu) = onnx::QuantizeLinear[onnx_name=\"/darknet/1/relu/QuantizeLinear\"](%/darknet/1/relu/Relu_output_0, %/darknet/1/relu/Constant_output_0, %/darknet/1/relu/Constant_1_output_0), scope: model.YOLO_Quant::/torch.nn.modules.container.Sequential::darknet/model.CNNBlock::1/torch.nn.modules.activation.ReLU::relu # /usr/local/anaconda3/envs/machineLearning/lib/python3.11/site-packages/torch/nn/functional.py:1471:0\n",
      "  %/darknet/2/Cast_output_0 : Byte(1, 16, 88, 88, strides=[123904, 7744, 88, 1], device=cpu) = onnx::Cast[to=2, onnx_name=\"/darknet/2/Cast\"](%/darknet/1/relu/QuantizeLinear_output_0), scope: model.YOLO_Quant::/torch.nn.modules.container.Sequential::darknet/torch.nn.modules.pooling.MaxPool2d::2 # /usr/local/anaconda3/envs/machineLearning/lib/python3.11/site-packages/torch/nn/functional.py:791:0\n",
      "  %/darknet/2/Constant_output_0 : Float(requires_grad=0, device=cpu) = onnx::Constant[value={0.00497147}, onnx_name=\"/darknet/2/Constant\"](), scope: model.YOLO_Quant::/torch.nn.modules.container.Sequential::darknet/torch.nn.modules.pooling.MaxPool2d::2 # /usr/local/anaconda3/envs/machineLearning/lib/python3.11/site-packages/torch/nn/functional.py:791:0\n",
      "  %/darknet/2/Constant_1_output_0 : Byte(requires_grad=0, device=cpu) = onnx::Constant[value={135}, onnx_name=\"/darknet/2/Constant_1\"](), scope: model.YOLO_Quant::/torch.nn.modules.container.Sequential::darknet/torch.nn.modules.pooling.MaxPool2d::2 # /usr/local/anaconda3/envs/machineLearning/lib/python3.11/site-packages/torch/nn/functional.py:791:0\n",
      "  %/darknet/2/DequantizeLinear_output_0 : Float(1, 16, 88, 88, strides=[123904, 7744, 88, 1], device=cpu) = onnx::DequantizeLinear[onnx_name=\"/darknet/2/DequantizeLinear\"](%/darknet/2/Cast_output_0, %/darknet/2/Constant_output_0, %/darknet/2/Constant_1_output_0), scope: model.YOLO_Quant::/torch.nn.modules.container.Sequential::darknet/torch.nn.modules.pooling.MaxPool2d::2 # /usr/local/anaconda3/envs/machineLearning/lib/python3.11/site-packages/torch/nn/functional.py:791:0\n",
      "  %/darknet/2/MaxPool_output_0 : Float(1, 16, 44, 44, strides=[30976, 1936, 44, 1], device=cpu) = onnx::MaxPool[ceil_mode=0, kernel_shape=[2, 2], pads=[0, 0, 0, 0], strides=[2, 2], onnx_name=\"/darknet/2/MaxPool\"](%/darknet/2/DequantizeLinear_output_0), scope: model.YOLO_Quant::/torch.nn.modules.container.Sequential::darknet/torch.nn.modules.pooling.MaxPool2d::2 # /usr/local/anaconda3/envs/machineLearning/lib/python3.11/site-packages/torch/nn/functional.py:791:0\n",
      "  %/darknet/2/QuantizeLinear_output_0 : Byte(1, 16, 44, 44, strides=[30976, 1936, 44, 1], device=cpu) = onnx::QuantizeLinear[onnx_name=\"/darknet/2/QuantizeLinear\"](%/darknet/2/MaxPool_output_0, %/darknet/2/Constant_output_0, %/darknet/2/Constant_1_output_0), scope: model.YOLO_Quant::/torch.nn.modules.container.Sequential::darknet/torch.nn.modules.pooling.MaxPool2d::2 # /usr/local/anaconda3/envs/machineLearning/lib/python3.11/site-packages/torch/nn/functional.py:791:0\n",
      "  %/darknet/3/conv/Cast_output_0 : Byte(1, 16, 44, 44, strides=[30976, 1936, 44, 1], device=cpu) = onnx::Cast[to=2, onnx_name=\"/darknet/3/conv/Cast\"](%/darknet/2/QuantizeLinear_output_0), scope: model.YOLO_Quant::/torch.nn.modules.container.Sequential::darknet/model.CNNBlock::3/torch.ao.nn.quantized.modules.conv.Conv2d::conv # /usr/local/anaconda3/envs/machineLearning/lib/python3.11/site-packages/torch/_ops.py:692:0\n",
      "  %/darknet/3/conv/Constant_output_0 : Float(requires_grad=0, device=cpu) = onnx::Constant[value={0.00497147}, onnx_name=\"/darknet/3/conv/Constant\"](), scope: model.YOLO_Quant::/torch.nn.modules.container.Sequential::darknet/model.CNNBlock::3/torch.ao.nn.quantized.modules.conv.Conv2d::conv # /usr/local/anaconda3/envs/machineLearning/lib/python3.11/site-packages/torch/_ops.py:692:0\n",
      "  %/darknet/3/conv/Constant_1_output_0 : Byte(requires_grad=0, device=cpu) = onnx::Constant[value={135}, onnx_name=\"/darknet/3/conv/Constant_1\"](), scope: model.YOLO_Quant::/torch.nn.modules.container.Sequential::darknet/model.CNNBlock::3/torch.ao.nn.quantized.modules.conv.Conv2d::conv # /usr/local/anaconda3/envs/machineLearning/lib/python3.11/site-packages/torch/_ops.py:692:0\n",
      "  %/darknet/3/conv/DequantizeLinear_output_0 : Float(1, 16, 44, 44, strides=[30976, 1936, 44, 1], device=cpu) = onnx::DequantizeLinear[onnx_name=\"/darknet/3/conv/DequantizeLinear\"](%/darknet/3/conv/Cast_output_0, %/darknet/3/conv/Constant_output_0, %/darknet/3/conv/Constant_1_output_0), scope: model.YOLO_Quant::/torch.nn.modules.container.Sequential::darknet/model.CNNBlock::3/torch.ao.nn.quantized.modules.conv.Conv2d::conv # /usr/local/anaconda3/envs/machineLearning/lib/python3.11/site-packages/torch/_ops.py:692:0\n",
      "  %/darknet/3/conv/Constant_2_output_0 : Char(16, 16, 3, 3, strides=[144, 1, 48, 16], requires_grad=0, device=cpu) = onnx::Constant[value=<Tensor>, onnx_name=\"/darknet/3/conv/Constant_2\"](), scope: model.YOLO_Quant::/torch.nn.modules.container.Sequential::darknet/model.CNNBlock::3/torch.ao.nn.quantized.modules.conv.Conv2d::conv # /usr/local/anaconda3/envs/machineLearning/lib/python3.11/site-packages/torch/_ops.py:692:0\n",
      "  %/darknet/3/conv/Constant_3_output_0 : Float(1, strides=[1], requires_grad=0, device=cpu) = onnx::Constant[value={0.000653583}, onnx_name=\"/darknet/3/conv/Constant_3\"](), scope: model.YOLO_Quant::/torch.nn.modules.container.Sequential::darknet/model.CNNBlock::3/torch.ao.nn.quantized.modules.conv.Conv2d::conv # /usr/local/anaconda3/envs/machineLearning/lib/python3.11/site-packages/torch/_ops.py:692:0\n",
      "  %/darknet/3/conv/Constant_4_output_0 : Char(1, strides=[1], requires_grad=0, device=cpu) = onnx::Constant[value={0}, onnx_name=\"/darknet/3/conv/Constant_4\"](), scope: model.YOLO_Quant::/torch.nn.modules.container.Sequential::darknet/model.CNNBlock::3/torch.ao.nn.quantized.modules.conv.Conv2d::conv # /usr/local/anaconda3/envs/machineLearning/lib/python3.11/site-packages/torch/_ops.py:692:0\n",
      "  %/darknet/3/conv/DequantizeLinear_1_output_0 : Float(16, 16, 3, 3, strides=[144, 9, 3, 1], device=cpu) = onnx::DequantizeLinear[onnx_name=\"/darknet/3/conv/DequantizeLinear_1\"](%/darknet/3/conv/Constant_2_output_0, %/darknet/3/conv/Constant_3_output_0, %/darknet/3/conv/Constant_4_output_0), scope: model.YOLO_Quant::/torch.nn.modules.container.Sequential::darknet/model.CNNBlock::3/torch.ao.nn.quantized.modules.conv.Conv2d::conv # /usr/local/anaconda3/envs/machineLearning/lib/python3.11/site-packages/torch/_ops.py:692:0\n",
      "  %/darknet/3/conv/Constant_5_output_0 : Long(1, strides=[1], requires_grad=0, device=cpu) = onnx::Constant[value={1}, onnx_name=\"/darknet/3/conv/Constant_5\"](), scope: model.YOLO_Quant::/torch.nn.modules.container.Sequential::darknet/model.CNNBlock::3/torch.ao.nn.quantized.modules.conv.Conv2d::conv # /usr/local/anaconda3/envs/machineLearning/lib/python3.11/site-packages/torch/_ops.py:692:0\n",
      "  %/darknet/3/conv/ConstantOfShape_output_0 : Int(1, strides=[1], device=cpu) = onnx::ConstantOfShape[value={0}, onnx_name=\"/darknet/3/conv/ConstantOfShape\"](%/darknet/3/conv/Constant_5_output_0), scope: model.YOLO_Quant::/torch.nn.modules.container.Sequential::darknet/model.CNNBlock::3/torch.ao.nn.quantized.modules.conv.Conv2d::conv # /usr/local/anaconda3/envs/machineLearning/lib/python3.11/site-packages/torch/_ops.py:692:0\n",
      "  %/darknet/3/conv/Constant_6_output_0 : Int(16, strides=[1], requires_grad=0, device=cpu) = onnx::Constant[value=<Tensor>, onnx_name=\"/darknet/3/conv/Constant_6\"](), scope: model.YOLO_Quant::/torch.nn.modules.container.Sequential::darknet/model.CNNBlock::3/torch.ao.nn.quantized.modules.conv.Conv2d::conv # /usr/local/anaconda3/envs/machineLearning/lib/python3.11/site-packages/torch/_ops.py:692:0\n",
      "  %/darknet/3/conv/Constant_7_output_0 : Float(1, strides=[1], requires_grad=0, device=cpu) = onnx::Constant[value={3.24927e-06}, onnx_name=\"/darknet/3/conv/Constant_7\"](), scope: model.YOLO_Quant::/torch.nn.modules.container.Sequential::darknet/model.CNNBlock::3/torch.ao.nn.quantized.modules.conv.Conv2d::conv # /usr/local/anaconda3/envs/machineLearning/lib/python3.11/site-packages/torch/_ops.py:692:0\n",
      "  %/darknet/3/conv/Cast_1_output_0 : Int(1, strides=[1], device=cpu) = onnx::Cast[to=6, onnx_name=\"/darknet/3/conv/Cast_1\"](%/darknet/3/conv/ConstantOfShape_output_0), scope: model.YOLO_Quant::/torch.nn.modules.container.Sequential::darknet/model.CNNBlock::3/torch.ao.nn.quantized.modules.conv.Conv2d::conv # /usr/local/anaconda3/envs/machineLearning/lib/python3.11/site-packages/torch/_ops.py:692:0\n",
      "  %/darknet/3/conv/DequantizeLinear_2_output_0 : Float(16, strides=[1], device=cpu) = onnx::DequantizeLinear[onnx_name=\"/darknet/3/conv/DequantizeLinear_2\"](%/darknet/3/conv/Constant_6_output_0, %/darknet/3/conv/Constant_7_output_0, %/darknet/3/conv/Cast_1_output_0), scope: model.YOLO_Quant::/torch.nn.modules.container.Sequential::darknet/model.CNNBlock::3/torch.ao.nn.quantized.modules.conv.Conv2d::conv # /usr/local/anaconda3/envs/machineLearning/lib/python3.11/site-packages/torch/_ops.py:692:0\n",
      "  %/darknet/3/conv/Conv_output_0 : Float(1, 16, 44, 44, strides=[30976, 1936, 44, 1], device=cpu) = onnx::Conv[dilations=[1, 1], group=1, kernel_shape=[3, 3], pads=[1, 1, 1, 1], strides=[1, 1], onnx_name=\"/darknet/3/conv/Conv\"](%/darknet/3/conv/DequantizeLinear_output_0, %/darknet/3/conv/DequantizeLinear_1_output_0, %/darknet/3/conv/DequantizeLinear_2_output_0), scope: model.YOLO_Quant::/torch.nn.modules.container.Sequential::darknet/model.CNNBlock::3/torch.ao.nn.quantized.modules.conv.Conv2d::conv # /usr/local/anaconda3/envs/machineLearning/lib/python3.11/site-packages/torch/_ops.py:692:0\n",
      "  %/darknet/3/conv/Constant_8_output_0 : Float(requires_grad=0, device=cpu) = onnx::Constant[value={0.00149222}, onnx_name=\"/darknet/3/conv/Constant_8\"](), scope: model.YOLO_Quant::/torch.nn.modules.container.Sequential::darknet/model.CNNBlock::3/torch.ao.nn.quantized.modules.conv.Conv2d::conv # /usr/local/anaconda3/envs/machineLearning/lib/python3.11/site-packages/torch/_ops.py:692:0\n",
      "  %/darknet/3/conv/Constant_9_output_0 : Byte(requires_grad=0, device=cpu) = onnx::Constant[value={113}, onnx_name=\"/darknet/3/conv/Constant_9\"](), scope: model.YOLO_Quant::/torch.nn.modules.container.Sequential::darknet/model.CNNBlock::3/torch.ao.nn.quantized.modules.conv.Conv2d::conv # /usr/local/anaconda3/envs/machineLearning/lib/python3.11/site-packages/torch/_ops.py:692:0\n",
      "  %/darknet/3/conv/QuantizeLinear_output_0 : Byte(1, 16, 44, 44, strides=[30976, 1936, 44, 1], device=cpu) = onnx::QuantizeLinear[onnx_name=\"/darknet/3/conv/QuantizeLinear\"](%/darknet/3/conv/Conv_output_0, %/darknet/3/conv/Constant_8_output_0, %/darknet/3/conv/Constant_9_output_0), scope: model.YOLO_Quant::/torch.nn.modules.container.Sequential::darknet/model.CNNBlock::3/torch.ao.nn.quantized.modules.conv.Conv2d::conv # /usr/local/anaconda3/envs/machineLearning/lib/python3.11/site-packages/torch/_ops.py:692:0\n",
      "  %/darknet/3/relu/Cast_output_0 : Byte(1, 16, 44, 44, strides=[30976, 1936, 44, 1], device=cpu) = onnx::Cast[to=2, onnx_name=\"/darknet/3/relu/Cast\"](%/darknet/3/conv/QuantizeLinear_output_0), scope: model.YOLO_Quant::/torch.nn.modules.container.Sequential::darknet/model.CNNBlock::3/torch.nn.modules.activation.ReLU::relu # /usr/local/anaconda3/envs/machineLearning/lib/python3.11/site-packages/torch/nn/functional.py:1471:0\n",
      "  %/darknet/3/relu/Constant_output_0 : Float(requires_grad=0, device=cpu) = onnx::Constant[value={0.00149222}, onnx_name=\"/darknet/3/relu/Constant\"](), scope: model.YOLO_Quant::/torch.nn.modules.container.Sequential::darknet/model.CNNBlock::3/torch.nn.modules.activation.ReLU::relu # /usr/local/anaconda3/envs/machineLearning/lib/python3.11/site-packages/torch/nn/functional.py:1471:0\n",
      "  %/darknet/3/relu/Constant_1_output_0 : Byte(requires_grad=0, device=cpu) = onnx::Constant[value={113}, onnx_name=\"/darknet/3/relu/Constant_1\"](), scope: model.YOLO_Quant::/torch.nn.modules.container.Sequential::darknet/model.CNNBlock::3/torch.nn.modules.activation.ReLU::relu # /usr/local/anaconda3/envs/machineLearning/lib/python3.11/site-packages/torch/nn/functional.py:1471:0\n",
      "  %/darknet/3/relu/DequantizeLinear_output_0 : Float(1, 16, 44, 44, strides=[30976, 1936, 44, 1], device=cpu) = onnx::DequantizeLinear[onnx_name=\"/darknet/3/relu/DequantizeLinear\"](%/darknet/3/relu/Cast_output_0, %/darknet/3/relu/Constant_output_0, %/darknet/3/relu/Constant_1_output_0), scope: model.YOLO_Quant::/torch.nn.modules.container.Sequential::darknet/model.CNNBlock::3/torch.nn.modules.activation.ReLU::relu # /usr/local/anaconda3/envs/machineLearning/lib/python3.11/site-packages/torch/nn/functional.py:1471:0\n",
      "  %/darknet/3/relu/Relu_output_0 : Float(1, 16, 44, 44, strides=[30976, 1936, 44, 1], device=cpu) = onnx::Relu[onnx_name=\"/darknet/3/relu/Relu\"](%/darknet/3/relu/DequantizeLinear_output_0), scope: model.YOLO_Quant::/torch.nn.modules.container.Sequential::darknet/model.CNNBlock::3/torch.nn.modules.activation.ReLU::relu # /usr/local/anaconda3/envs/machineLearning/lib/python3.11/site-packages/torch/nn/functional.py:1471:0\n",
      "  %/darknet/3/relu/QuantizeLinear_output_0 : Byte(1, 16, 44, 44, strides=[30976, 1936, 44, 1], device=cpu) = onnx::QuantizeLinear[onnx_name=\"/darknet/3/relu/QuantizeLinear\"](%/darknet/3/relu/Relu_output_0, %/darknet/3/relu/Constant_output_0, %/darknet/3/relu/Constant_1_output_0), scope: model.YOLO_Quant::/torch.nn.modules.container.Sequential::darknet/model.CNNBlock::3/torch.nn.modules.activation.ReLU::relu # /usr/local/anaconda3/envs/machineLearning/lib/python3.11/site-packages/torch/nn/functional.py:1471:0\n",
      "  %/darknet/4/conv/Cast_output_0 : Byte(1, 16, 44, 44, strides=[30976, 1936, 44, 1], device=cpu) = onnx::Cast[to=2, onnx_name=\"/darknet/4/conv/Cast\"](%/darknet/3/relu/QuantizeLinear_output_0), scope: model.YOLO_Quant::/torch.nn.modules.container.Sequential::darknet/model.CNNBlock::4/torch.ao.nn.quantized.modules.conv.Conv2d::conv # /usr/local/anaconda3/envs/machineLearning/lib/python3.11/site-packages/torch/_ops.py:692:0\n",
      "  %/darknet/4/conv/Constant_output_0 : Float(requires_grad=0, device=cpu) = onnx::Constant[value={0.00149222}, onnx_name=\"/darknet/4/conv/Constant\"](), scope: model.YOLO_Quant::/torch.nn.modules.container.Sequential::darknet/model.CNNBlock::4/torch.ao.nn.quantized.modules.conv.Conv2d::conv # /usr/local/anaconda3/envs/machineLearning/lib/python3.11/site-packages/torch/_ops.py:692:0\n",
      "  %/darknet/4/conv/Constant_1_output_0 : Byte(requires_grad=0, device=cpu) = onnx::Constant[value={113}, onnx_name=\"/darknet/4/conv/Constant_1\"](), scope: model.YOLO_Quant::/torch.nn.modules.container.Sequential::darknet/model.CNNBlock::4/torch.ao.nn.quantized.modules.conv.Conv2d::conv # /usr/local/anaconda3/envs/machineLearning/lib/python3.11/site-packages/torch/_ops.py:692:0\n",
      "  %/darknet/4/conv/DequantizeLinear_output_0 : Float(1, 16, 44, 44, strides=[30976, 1936, 44, 1], device=cpu) = onnx::DequantizeLinear[onnx_name=\"/darknet/4/conv/DequantizeLinear\"](%/darknet/4/conv/Cast_output_0, %/darknet/4/conv/Constant_output_0, %/darknet/4/conv/Constant_1_output_0), scope: model.YOLO_Quant::/torch.nn.modules.container.Sequential::darknet/model.CNNBlock::4/torch.ao.nn.quantized.modules.conv.Conv2d::conv # /usr/local/anaconda3/envs/machineLearning/lib/python3.11/site-packages/torch/_ops.py:692:0\n",
      "  %/darknet/4/conv/Constant_2_output_0 : Char(32, 16, 3, 3, strides=[144, 1, 48, 16], requires_grad=0, device=cpu) = onnx::Constant[value=<Tensor>, onnx_name=\"/darknet/4/conv/Constant_2\"](), scope: model.YOLO_Quant::/torch.nn.modules.container.Sequential::darknet/model.CNNBlock::4/torch.ao.nn.quantized.modules.conv.Conv2d::conv # /usr/local/anaconda3/envs/machineLearning/lib/python3.11/site-packages/torch/_ops.py:692:0\n",
      "  %/darknet/4/conv/Constant_3_output_0 : Float(1, strides=[1], requires_grad=0, device=cpu) = onnx::Constant[value={0.000653581}, onnx_name=\"/darknet/4/conv/Constant_3\"](), scope: model.YOLO_Quant::/torch.nn.modules.container.Sequential::darknet/model.CNNBlock::4/torch.ao.nn.quantized.modules.conv.Conv2d::conv # /usr/local/anaconda3/envs/machineLearning/lib/python3.11/site-packages/torch/_ops.py:692:0\n",
      "  %/darknet/4/conv/Constant_4_output_0 : Char(1, strides=[1], requires_grad=0, device=cpu) = onnx::Constant[value={0}, onnx_name=\"/darknet/4/conv/Constant_4\"](), scope: model.YOLO_Quant::/torch.nn.modules.container.Sequential::darknet/model.CNNBlock::4/torch.ao.nn.quantized.modules.conv.Conv2d::conv # /usr/local/anaconda3/envs/machineLearning/lib/python3.11/site-packages/torch/_ops.py:692:0\n",
      "  %/darknet/4/conv/DequantizeLinear_1_output_0 : Float(32, 16, 3, 3, strides=[144, 9, 3, 1], device=cpu) = onnx::DequantizeLinear[onnx_name=\"/darknet/4/conv/DequantizeLinear_1\"](%/darknet/4/conv/Constant_2_output_0, %/darknet/4/conv/Constant_3_output_0, %/darknet/4/conv/Constant_4_output_0), scope: model.YOLO_Quant::/torch.nn.modules.container.Sequential::darknet/model.CNNBlock::4/torch.ao.nn.quantized.modules.conv.Conv2d::conv # /usr/local/anaconda3/envs/machineLearning/lib/python3.11/site-packages/torch/_ops.py:692:0\n",
      "  %/darknet/4/conv/Constant_5_output_0 : Long(1, strides=[1], requires_grad=0, device=cpu) = onnx::Constant[value={1}, onnx_name=\"/darknet/4/conv/Constant_5\"](), scope: model.YOLO_Quant::/torch.nn.modules.container.Sequential::darknet/model.CNNBlock::4/torch.ao.nn.quantized.modules.conv.Conv2d::conv # /usr/local/anaconda3/envs/machineLearning/lib/python3.11/site-packages/torch/_ops.py:692:0\n",
      "  %/darknet/4/conv/ConstantOfShape_output_0 : Int(1, strides=[1], device=cpu) = onnx::ConstantOfShape[value={0}, onnx_name=\"/darknet/4/conv/ConstantOfShape\"](%/darknet/4/conv/Constant_5_output_0), scope: model.YOLO_Quant::/torch.nn.modules.container.Sequential::darknet/model.CNNBlock::4/torch.ao.nn.quantized.modules.conv.Conv2d::conv # /usr/local/anaconda3/envs/machineLearning/lib/python3.11/site-packages/torch/_ops.py:692:0\n",
      "  %/darknet/4/conv/Constant_6_output_0 : Int(32, strides=[1], requires_grad=0, device=cpu) = onnx::Constant[value=<Tensor>, onnx_name=\"/darknet/4/conv/Constant_6\"](), scope: model.YOLO_Quant::/torch.nn.modules.container.Sequential::darknet/model.CNNBlock::4/torch.ao.nn.quantized.modules.conv.Conv2d::conv # /usr/local/anaconda3/envs/machineLearning/lib/python3.11/site-packages/torch/_ops.py:692:0\n",
      "  %/darknet/4/conv/Constant_7_output_0 : Float(1, strides=[1], requires_grad=0, device=cpu) = onnx::Constant[value={9.75283e-07}, onnx_name=\"/darknet/4/conv/Constant_7\"](), scope: model.YOLO_Quant::/torch.nn.modules.container.Sequential::darknet/model.CNNBlock::4/torch.ao.nn.quantized.modules.conv.Conv2d::conv # /usr/local/anaconda3/envs/machineLearning/lib/python3.11/site-packages/torch/_ops.py:692:0\n",
      "  %/darknet/4/conv/Cast_1_output_0 : Int(1, strides=[1], device=cpu) = onnx::Cast[to=6, onnx_name=\"/darknet/4/conv/Cast_1\"](%/darknet/4/conv/ConstantOfShape_output_0), scope: model.YOLO_Quant::/torch.nn.modules.container.Sequential::darknet/model.CNNBlock::4/torch.ao.nn.quantized.modules.conv.Conv2d::conv # /usr/local/anaconda3/envs/machineLearning/lib/python3.11/site-packages/torch/_ops.py:692:0\n",
      "  %/darknet/4/conv/DequantizeLinear_2_output_0 : Float(32, strides=[1], device=cpu) = onnx::DequantizeLinear[onnx_name=\"/darknet/4/conv/DequantizeLinear_2\"](%/darknet/4/conv/Constant_6_output_0, %/darknet/4/conv/Constant_7_output_0, %/darknet/4/conv/Cast_1_output_0), scope: model.YOLO_Quant::/torch.nn.modules.container.Sequential::darknet/model.CNNBlock::4/torch.ao.nn.quantized.modules.conv.Conv2d::conv # /usr/local/anaconda3/envs/machineLearning/lib/python3.11/site-packages/torch/_ops.py:692:0\n",
      "  %/darknet/4/conv/Conv_output_0 : Float(1, 32, 44, 44, strides=[61952, 1936, 44, 1], device=cpu) = onnx::Conv[dilations=[1, 1], group=1, kernel_shape=[3, 3], pads=[1, 1, 1, 1], strides=[1, 1], onnx_name=\"/darknet/4/conv/Conv\"](%/darknet/4/conv/DequantizeLinear_output_0, %/darknet/4/conv/DequantizeLinear_1_output_0, %/darknet/4/conv/DequantizeLinear_2_output_0), scope: model.YOLO_Quant::/torch.nn.modules.container.Sequential::darknet/model.CNNBlock::4/torch.ao.nn.quantized.modules.conv.Conv2d::conv # /usr/local/anaconda3/envs/machineLearning/lib/python3.11/site-packages/torch/_ops.py:692:0\n",
      "  %/darknet/4/conv/Constant_8_output_0 : Float(requires_grad=0, device=cpu) = onnx::Constant[value={0.000714919}, onnx_name=\"/darknet/4/conv/Constant_8\"](), scope: model.YOLO_Quant::/torch.nn.modules.container.Sequential::darknet/model.CNNBlock::4/torch.ao.nn.quantized.modules.conv.Conv2d::conv # /usr/local/anaconda3/envs/machineLearning/lib/python3.11/site-packages/torch/_ops.py:692:0\n",
      "  %/darknet/4/conv/Constant_9_output_0 : Byte(requires_grad=0, device=cpu) = onnx::Constant[value={123}, onnx_name=\"/darknet/4/conv/Constant_9\"](), scope: model.YOLO_Quant::/torch.nn.modules.container.Sequential::darknet/model.CNNBlock::4/torch.ao.nn.quantized.modules.conv.Conv2d::conv # /usr/local/anaconda3/envs/machineLearning/lib/python3.11/site-packages/torch/_ops.py:692:0\n",
      "  %/darknet/4/conv/QuantizeLinear_output_0 : Byte(1, 32, 44, 44, strides=[61952, 1936, 44, 1], device=cpu) = onnx::QuantizeLinear[onnx_name=\"/darknet/4/conv/QuantizeLinear\"](%/darknet/4/conv/Conv_output_0, %/darknet/4/conv/Constant_8_output_0, %/darknet/4/conv/Constant_9_output_0), scope: model.YOLO_Quant::/torch.nn.modules.container.Sequential::darknet/model.CNNBlock::4/torch.ao.nn.quantized.modules.conv.Conv2d::conv # /usr/local/anaconda3/envs/machineLearning/lib/python3.11/site-packages/torch/_ops.py:692:0\n",
      "  %/darknet/4/relu/Cast_output_0 : Byte(1, 32, 44, 44, strides=[61952, 1936, 44, 1], device=cpu) = onnx::Cast[to=2, onnx_name=\"/darknet/4/relu/Cast\"](%/darknet/4/conv/QuantizeLinear_output_0), scope: model.YOLO_Quant::/torch.nn.modules.container.Sequential::darknet/model.CNNBlock::4/torch.nn.modules.activation.ReLU::relu # /usr/local/anaconda3/envs/machineLearning/lib/python3.11/site-packages/torch/nn/functional.py:1471:0\n",
      "  %/darknet/4/relu/Constant_output_0 : Float(requires_grad=0, device=cpu) = onnx::Constant[value={0.000714919}, onnx_name=\"/darknet/4/relu/Constant\"](), scope: model.YOLO_Quant::/torch.nn.modules.container.Sequential::darknet/model.CNNBlock::4/torch.nn.modules.activation.ReLU::relu # /usr/local/anaconda3/envs/machineLearning/lib/python3.11/site-packages/torch/nn/functional.py:1471:0\n",
      "  %/darknet/4/relu/Constant_1_output_0 : Byte(requires_grad=0, device=cpu) = onnx::Constant[value={123}, onnx_name=\"/darknet/4/relu/Constant_1\"](), scope: model.YOLO_Quant::/torch.nn.modules.container.Sequential::darknet/model.CNNBlock::4/torch.nn.modules.activation.ReLU::relu # /usr/local/anaconda3/envs/machineLearning/lib/python3.11/site-packages/torch/nn/functional.py:1471:0\n",
      "  %/darknet/4/relu/DequantizeLinear_output_0 : Float(1, 32, 44, 44, strides=[61952, 1936, 44, 1], device=cpu) = onnx::DequantizeLinear[onnx_name=\"/darknet/4/relu/DequantizeLinear\"](%/darknet/4/relu/Cast_output_0, %/darknet/4/relu/Constant_output_0, %/darknet/4/relu/Constant_1_output_0), scope: model.YOLO_Quant::/torch.nn.modules.container.Sequential::darknet/model.CNNBlock::4/torch.nn.modules.activation.ReLU::relu # /usr/local/anaconda3/envs/machineLearning/lib/python3.11/site-packages/torch/nn/functional.py:1471:0\n",
      "  %/darknet/4/relu/Relu_output_0 : Float(1, 32, 44, 44, strides=[61952, 1936, 44, 1], device=cpu) = onnx::Relu[onnx_name=\"/darknet/4/relu/Relu\"](%/darknet/4/relu/DequantizeLinear_output_0), scope: model.YOLO_Quant::/torch.nn.modules.container.Sequential::darknet/model.CNNBlock::4/torch.nn.modules.activation.ReLU::relu # /usr/local/anaconda3/envs/machineLearning/lib/python3.11/site-packages/torch/nn/functional.py:1471:0\n",
      "  %/darknet/4/relu/QuantizeLinear_output_0 : Byte(1, 32, 44, 44, strides=[61952, 1936, 44, 1], device=cpu) = onnx::QuantizeLinear[onnx_name=\"/darknet/4/relu/QuantizeLinear\"](%/darknet/4/relu/Relu_output_0, %/darknet/4/relu/Constant_output_0, %/darknet/4/relu/Constant_1_output_0), scope: model.YOLO_Quant::/torch.nn.modules.container.Sequential::darknet/model.CNNBlock::4/torch.nn.modules.activation.ReLU::relu # /usr/local/anaconda3/envs/machineLearning/lib/python3.11/site-packages/torch/nn/functional.py:1471:0\n",
      "  %/darknet/5/Cast_output_0 : Byte(1, 32, 44, 44, strides=[61952, 1936, 44, 1], device=cpu) = onnx::Cast[to=2, onnx_name=\"/darknet/5/Cast\"](%/darknet/4/relu/QuantizeLinear_output_0), scope: model.YOLO_Quant::/torch.nn.modules.container.Sequential::darknet/torch.nn.modules.pooling.MaxPool2d::5 # /usr/local/anaconda3/envs/machineLearning/lib/python3.11/site-packages/torch/nn/functional.py:791:0\n",
      "  %/darknet/5/Constant_output_0 : Float(requires_grad=0, device=cpu) = onnx::Constant[value={0.000714919}, onnx_name=\"/darknet/5/Constant\"](), scope: model.YOLO_Quant::/torch.nn.modules.container.Sequential::darknet/torch.nn.modules.pooling.MaxPool2d::5 # /usr/local/anaconda3/envs/machineLearning/lib/python3.11/site-packages/torch/nn/functional.py:791:0\n",
      "  %/darknet/5/Constant_1_output_0 : Byte(requires_grad=0, device=cpu) = onnx::Constant[value={123}, onnx_name=\"/darknet/5/Constant_1\"](), scope: model.YOLO_Quant::/torch.nn.modules.container.Sequential::darknet/torch.nn.modules.pooling.MaxPool2d::5 # /usr/local/anaconda3/envs/machineLearning/lib/python3.11/site-packages/torch/nn/functional.py:791:0\n",
      "  %/darknet/5/DequantizeLinear_output_0 : Float(1, 32, 44, 44, strides=[61952, 1936, 44, 1], device=cpu) = onnx::DequantizeLinear[onnx_name=\"/darknet/5/DequantizeLinear\"](%/darknet/5/Cast_output_0, %/darknet/5/Constant_output_0, %/darknet/5/Constant_1_output_0), scope: model.YOLO_Quant::/torch.nn.modules.container.Sequential::darknet/torch.nn.modules.pooling.MaxPool2d::5 # /usr/local/anaconda3/envs/machineLearning/lib/python3.11/site-packages/torch/nn/functional.py:791:0\n",
      "  %/darknet/5/MaxPool_output_0 : Float(1, 32, 22, 22, strides=[15488, 484, 22, 1], device=cpu) = onnx::MaxPool[ceil_mode=0, kernel_shape=[2, 2], pads=[0, 0, 0, 0], strides=[2, 2], onnx_name=\"/darknet/5/MaxPool\"](%/darknet/5/DequantizeLinear_output_0), scope: model.YOLO_Quant::/torch.nn.modules.container.Sequential::darknet/torch.nn.modules.pooling.MaxPool2d::5 # /usr/local/anaconda3/envs/machineLearning/lib/python3.11/site-packages/torch/nn/functional.py:791:0\n",
      "  %/darknet/5/QuantizeLinear_output_0 : Byte(1, 32, 22, 22, strides=[15488, 484, 22, 1], device=cpu) = onnx::QuantizeLinear[onnx_name=\"/darknet/5/QuantizeLinear\"](%/darknet/5/MaxPool_output_0, %/darknet/5/Constant_output_0, %/darknet/5/Constant_1_output_0), scope: model.YOLO_Quant::/torch.nn.modules.container.Sequential::darknet/torch.nn.modules.pooling.MaxPool2d::5 # /usr/local/anaconda3/envs/machineLearning/lib/python3.11/site-packages/torch/nn/functional.py:791:0\n",
      "  %/darknet/6/conv/Cast_output_0 : Byte(1, 32, 22, 22, strides=[15488, 484, 22, 1], device=cpu) = onnx::Cast[to=2, onnx_name=\"/darknet/6/conv/Cast\"](%/darknet/5/QuantizeLinear_output_0), scope: model.YOLO_Quant::/torch.nn.modules.container.Sequential::darknet/model.CNNBlock::6/torch.ao.nn.quantized.modules.conv.Conv2d::conv # /usr/local/anaconda3/envs/machineLearning/lib/python3.11/site-packages/torch/_ops.py:692:0\n",
      "  %/darknet/6/conv/Constant_output_0 : Float(requires_grad=0, device=cpu) = onnx::Constant[value={0.000714919}, onnx_name=\"/darknet/6/conv/Constant\"](), scope: model.YOLO_Quant::/torch.nn.modules.container.Sequential::darknet/model.CNNBlock::6/torch.ao.nn.quantized.modules.conv.Conv2d::conv # /usr/local/anaconda3/envs/machineLearning/lib/python3.11/site-packages/torch/_ops.py:692:0\n",
      "  %/darknet/6/conv/Constant_1_output_0 : Byte(requires_grad=0, device=cpu) = onnx::Constant[value={123}, onnx_name=\"/darknet/6/conv/Constant_1\"](), scope: model.YOLO_Quant::/torch.nn.modules.container.Sequential::darknet/model.CNNBlock::6/torch.ao.nn.quantized.modules.conv.Conv2d::conv # /usr/local/anaconda3/envs/machineLearning/lib/python3.11/site-packages/torch/_ops.py:692:0\n",
      "  %/darknet/6/conv/DequantizeLinear_output_0 : Float(1, 32, 22, 22, strides=[15488, 484, 22, 1], device=cpu) = onnx::DequantizeLinear[onnx_name=\"/darknet/6/conv/DequantizeLinear\"](%/darknet/6/conv/Cast_output_0, %/darknet/6/conv/Constant_output_0, %/darknet/6/conv/Constant_1_output_0), scope: model.YOLO_Quant::/torch.nn.modules.container.Sequential::darknet/model.CNNBlock::6/torch.ao.nn.quantized.modules.conv.Conv2d::conv # /usr/local/anaconda3/envs/machineLearning/lib/python3.11/site-packages/torch/_ops.py:692:0\n",
      "  %/darknet/6/conv/Constant_2_output_0 : Char(32, 32, 3, 3, strides=[288, 1, 96, 32], requires_grad=0, device=cpu) = onnx::Constant[value=<Tensor>, onnx_name=\"/darknet/6/conv/Constant_2\"](), scope: model.YOLO_Quant::/torch.nn.modules.container.Sequential::darknet/model.CNNBlock::6/torch.ao.nn.quantized.modules.conv.Conv2d::conv # /usr/local/anaconda3/envs/machineLearning/lib/python3.11/site-packages/torch/_ops.py:692:0\n",
      "  %/darknet/6/conv/Constant_3_output_0 : Float(1, strides=[1], requires_grad=0, device=cpu) = onnx::Constant[value={0.000462051}, onnx_name=\"/darknet/6/conv/Constant_3\"](), scope: model.YOLO_Quant::/torch.nn.modules.container.Sequential::darknet/model.CNNBlock::6/torch.ao.nn.quantized.modules.conv.Conv2d::conv # /usr/local/anaconda3/envs/machineLearning/lib/python3.11/site-packages/torch/_ops.py:692:0\n",
      "  %/darknet/6/conv/Constant_4_output_0 : Char(1, strides=[1], requires_grad=0, device=cpu) = onnx::Constant[value={0}, onnx_name=\"/darknet/6/conv/Constant_4\"](), scope: model.YOLO_Quant::/torch.nn.modules.container.Sequential::darknet/model.CNNBlock::6/torch.ao.nn.quantized.modules.conv.Conv2d::conv # /usr/local/anaconda3/envs/machineLearning/lib/python3.11/site-packages/torch/_ops.py:692:0\n",
      "  %/darknet/6/conv/DequantizeLinear_1_output_0 : Float(32, 32, 3, 3, strides=[288, 9, 3, 1], device=cpu) = onnx::DequantizeLinear[onnx_name=\"/darknet/6/conv/DequantizeLinear_1\"](%/darknet/6/conv/Constant_2_output_0, %/darknet/6/conv/Constant_3_output_0, %/darknet/6/conv/Constant_4_output_0), scope: model.YOLO_Quant::/torch.nn.modules.container.Sequential::darknet/model.CNNBlock::6/torch.ao.nn.quantized.modules.conv.Conv2d::conv # /usr/local/anaconda3/envs/machineLearning/lib/python3.11/site-packages/torch/_ops.py:692:0\n",
      "  %/darknet/6/conv/Constant_5_output_0 : Long(1, strides=[1], requires_grad=0, device=cpu) = onnx::Constant[value={1}, onnx_name=\"/darknet/6/conv/Constant_5\"](), scope: model.YOLO_Quant::/torch.nn.modules.container.Sequential::darknet/model.CNNBlock::6/torch.ao.nn.quantized.modules.conv.Conv2d::conv # /usr/local/anaconda3/envs/machineLearning/lib/python3.11/site-packages/torch/_ops.py:692:0\n",
      "  %/darknet/6/conv/ConstantOfShape_output_0 : Int(1, strides=[1], device=cpu) = onnx::ConstantOfShape[value={0}, onnx_name=\"/darknet/6/conv/ConstantOfShape\"](%/darknet/6/conv/Constant_5_output_0), scope: model.YOLO_Quant::/torch.nn.modules.container.Sequential::darknet/model.CNNBlock::6/torch.ao.nn.quantized.modules.conv.Conv2d::conv # /usr/local/anaconda3/envs/machineLearning/lib/python3.11/site-packages/torch/_ops.py:692:0\n",
      "  %/darknet/6/conv/Constant_6_output_0 : Int(32, strides=[1], requires_grad=0, device=cpu) = onnx::Constant[value=<Tensor>, onnx_name=\"/darknet/6/conv/Constant_6\"](), scope: model.YOLO_Quant::/torch.nn.modules.container.Sequential::darknet/model.CNNBlock::6/torch.ao.nn.quantized.modules.conv.Conv2d::conv # /usr/local/anaconda3/envs/machineLearning/lib/python3.11/site-packages/torch/_ops.py:692:0\n",
      "  %/darknet/6/conv/Constant_7_output_0 : Float(1, strides=[1], requires_grad=0, device=cpu) = onnx::Constant[value={3.30329e-07}, onnx_name=\"/darknet/6/conv/Constant_7\"](), scope: model.YOLO_Quant::/torch.nn.modules.container.Sequential::darknet/model.CNNBlock::6/torch.ao.nn.quantized.modules.conv.Conv2d::conv # /usr/local/anaconda3/envs/machineLearning/lib/python3.11/site-packages/torch/_ops.py:692:0\n",
      "  %/darknet/6/conv/Cast_1_output_0 : Int(1, strides=[1], device=cpu) = onnx::Cast[to=6, onnx_name=\"/darknet/6/conv/Cast_1\"](%/darknet/6/conv/ConstantOfShape_output_0), scope: model.YOLO_Quant::/torch.nn.modules.container.Sequential::darknet/model.CNNBlock::6/torch.ao.nn.quantized.modules.conv.Conv2d::conv # /usr/local/anaconda3/envs/machineLearning/lib/python3.11/site-packages/torch/_ops.py:692:0\n",
      "  %/darknet/6/conv/DequantizeLinear_2_output_0 : Float(32, strides=[1], device=cpu) = onnx::DequantizeLinear[onnx_name=\"/darknet/6/conv/DequantizeLinear_2\"](%/darknet/6/conv/Constant_6_output_0, %/darknet/6/conv/Constant_7_output_0, %/darknet/6/conv/Cast_1_output_0), scope: model.YOLO_Quant::/torch.nn.modules.container.Sequential::darknet/model.CNNBlock::6/torch.ao.nn.quantized.modules.conv.Conv2d::conv # /usr/local/anaconda3/envs/machineLearning/lib/python3.11/site-packages/torch/_ops.py:692:0\n",
      "  %/darknet/6/conv/Conv_output_0 : Float(1, 32, 22, 22, strides=[15488, 484, 22, 1], device=cpu) = onnx::Conv[dilations=[1, 1], group=1, kernel_shape=[3, 3], pads=[1, 1, 1, 1], strides=[1, 1], onnx_name=\"/darknet/6/conv/Conv\"](%/darknet/6/conv/DequantizeLinear_output_0, %/darknet/6/conv/DequantizeLinear_1_output_0, %/darknet/6/conv/DequantizeLinear_2_output_0), scope: model.YOLO_Quant::/torch.nn.modules.container.Sequential::darknet/model.CNNBlock::6/torch.ao.nn.quantized.modules.conv.Conv2d::conv # /usr/local/anaconda3/envs/machineLearning/lib/python3.11/site-packages/torch/_ops.py:692:0\n",
      "  %/darknet/6/conv/Constant_8_output_0 : Float(requires_grad=0, device=cpu) = onnx::Constant[value={0.000242189}, onnx_name=\"/darknet/6/conv/Constant_8\"](), scope: model.YOLO_Quant::/torch.nn.modules.container.Sequential::darknet/model.CNNBlock::6/torch.ao.nn.quantized.modules.conv.Conv2d::conv # /usr/local/anaconda3/envs/machineLearning/lib/python3.11/site-packages/torch/_ops.py:692:0\n",
      "  %/darknet/6/conv/Constant_9_output_0 : Byte(requires_grad=0, device=cpu) = onnx::Constant[value={137}, onnx_name=\"/darknet/6/conv/Constant_9\"](), scope: model.YOLO_Quant::/torch.nn.modules.container.Sequential::darknet/model.CNNBlock::6/torch.ao.nn.quantized.modules.conv.Conv2d::conv # /usr/local/anaconda3/envs/machineLearning/lib/python3.11/site-packages/torch/_ops.py:692:0\n",
      "  %/darknet/6/conv/QuantizeLinear_output_0 : Byte(1, 32, 22, 22, strides=[15488, 484, 22, 1], device=cpu) = onnx::QuantizeLinear[onnx_name=\"/darknet/6/conv/QuantizeLinear\"](%/darknet/6/conv/Conv_output_0, %/darknet/6/conv/Constant_8_output_0, %/darknet/6/conv/Constant_9_output_0), scope: model.YOLO_Quant::/torch.nn.modules.container.Sequential::darknet/model.CNNBlock::6/torch.ao.nn.quantized.modules.conv.Conv2d::conv # /usr/local/anaconda3/envs/machineLearning/lib/python3.11/site-packages/torch/_ops.py:692:0\n",
      "  %/darknet/6/relu/Cast_output_0 : Byte(1, 32, 22, 22, strides=[15488, 484, 22, 1], device=cpu) = onnx::Cast[to=2, onnx_name=\"/darknet/6/relu/Cast\"](%/darknet/6/conv/QuantizeLinear_output_0), scope: model.YOLO_Quant::/torch.nn.modules.container.Sequential::darknet/model.CNNBlock::6/torch.nn.modules.activation.ReLU::relu # /usr/local/anaconda3/envs/machineLearning/lib/python3.11/site-packages/torch/nn/functional.py:1471:0\n",
      "  %/darknet/6/relu/Constant_output_0 : Float(requires_grad=0, device=cpu) = onnx::Constant[value={0.000242189}, onnx_name=\"/darknet/6/relu/Constant\"](), scope: model.YOLO_Quant::/torch.nn.modules.container.Sequential::darknet/model.CNNBlock::6/torch.nn.modules.activation.ReLU::relu # /usr/local/anaconda3/envs/machineLearning/lib/python3.11/site-packages/torch/nn/functional.py:1471:0\n",
      "  %/darknet/6/relu/Constant_1_output_0 : Byte(requires_grad=0, device=cpu) = onnx::Constant[value={137}, onnx_name=\"/darknet/6/relu/Constant_1\"](), scope: model.YOLO_Quant::/torch.nn.modules.container.Sequential::darknet/model.CNNBlock::6/torch.nn.modules.activation.ReLU::relu # /usr/local/anaconda3/envs/machineLearning/lib/python3.11/site-packages/torch/nn/functional.py:1471:0\n",
      "  %/darknet/6/relu/DequantizeLinear_output_0 : Float(1, 32, 22, 22, strides=[15488, 484, 22, 1], device=cpu) = onnx::DequantizeLinear[onnx_name=\"/darknet/6/relu/DequantizeLinear\"](%/darknet/6/relu/Cast_output_0, %/darknet/6/relu/Constant_output_0, %/darknet/6/relu/Constant_1_output_0), scope: model.YOLO_Quant::/torch.nn.modules.container.Sequential::darknet/model.CNNBlock::6/torch.nn.modules.activation.ReLU::relu # /usr/local/anaconda3/envs/machineLearning/lib/python3.11/site-packages/torch/nn/functional.py:1471:0\n",
      "  %/darknet/6/relu/Relu_output_0 : Float(1, 32, 22, 22, strides=[15488, 484, 22, 1], device=cpu) = onnx::Relu[onnx_name=\"/darknet/6/relu/Relu\"](%/darknet/6/relu/DequantizeLinear_output_0), scope: model.YOLO_Quant::/torch.nn.modules.container.Sequential::darknet/model.CNNBlock::6/torch.nn.modules.activation.ReLU::relu # /usr/local/anaconda3/envs/machineLearning/lib/python3.11/site-packages/torch/nn/functional.py:1471:0\n",
      "  %/darknet/6/relu/QuantizeLinear_output_0 : Byte(1, 32, 22, 22, strides=[15488, 484, 22, 1], device=cpu) = onnx::QuantizeLinear[onnx_name=\"/darknet/6/relu/QuantizeLinear\"](%/darknet/6/relu/Relu_output_0, %/darknet/6/relu/Constant_output_0, %/darknet/6/relu/Constant_1_output_0), scope: model.YOLO_Quant::/torch.nn.modules.container.Sequential::darknet/model.CNNBlock::6/torch.nn.modules.activation.ReLU::relu # /usr/local/anaconda3/envs/machineLearning/lib/python3.11/site-packages/torch/nn/functional.py:1471:0\n",
      "  %/darknet/7/conv/Cast_output_0 : Byte(1, 32, 22, 22, strides=[15488, 484, 22, 1], device=cpu) = onnx::Cast[to=2, onnx_name=\"/darknet/7/conv/Cast\"](%/darknet/6/relu/QuantizeLinear_output_0), scope: model.YOLO_Quant::/torch.nn.modules.container.Sequential::darknet/model.CNNBlock::7/torch.ao.nn.quantized.modules.conv.Conv2d::conv # /usr/local/anaconda3/envs/machineLearning/lib/python3.11/site-packages/torch/_ops.py:692:0\n",
      "  %/darknet/7/conv/Constant_output_0 : Float(requires_grad=0, device=cpu) = onnx::Constant[value={0.000242189}, onnx_name=\"/darknet/7/conv/Constant\"](), scope: model.YOLO_Quant::/torch.nn.modules.container.Sequential::darknet/model.CNNBlock::7/torch.ao.nn.quantized.modules.conv.Conv2d::conv # /usr/local/anaconda3/envs/machineLearning/lib/python3.11/site-packages/torch/_ops.py:692:0\n",
      "  %/darknet/7/conv/Constant_1_output_0 : Byte(requires_grad=0, device=cpu) = onnx::Constant[value={137}, onnx_name=\"/darknet/7/conv/Constant_1\"](), scope: model.YOLO_Quant::/torch.nn.modules.container.Sequential::darknet/model.CNNBlock::7/torch.ao.nn.quantized.modules.conv.Conv2d::conv # /usr/local/anaconda3/envs/machineLearning/lib/python3.11/site-packages/torch/_ops.py:692:0\n",
      "  %/darknet/7/conv/DequantizeLinear_output_0 : Float(1, 32, 22, 22, strides=[15488, 484, 22, 1], device=cpu) = onnx::DequantizeLinear[onnx_name=\"/darknet/7/conv/DequantizeLinear\"](%/darknet/7/conv/Cast_output_0, %/darknet/7/conv/Constant_output_0, %/darknet/7/conv/Constant_1_output_0), scope: model.YOLO_Quant::/torch.nn.modules.container.Sequential::darknet/model.CNNBlock::7/torch.ao.nn.quantized.modules.conv.Conv2d::conv # /usr/local/anaconda3/envs/machineLearning/lib/python3.11/site-packages/torch/_ops.py:692:0\n",
      "  %/darknet/7/conv/Constant_2_output_0 : Char(64, 32, 3, 3, strides=[288, 1, 96, 32], requires_grad=0, device=cpu) = onnx::Constant[value=<Tensor>, onnx_name=\"/darknet/7/conv/Constant_2\"](), scope: model.YOLO_Quant::/torch.nn.modules.container.Sequential::darknet/model.CNNBlock::7/torch.ao.nn.quantized.modules.conv.Conv2d::conv # /usr/local/anaconda3/envs/machineLearning/lib/python3.11/site-packages/torch/_ops.py:692:0\n",
      "  %/darknet/7/conv/Constant_3_output_0 : Float(1, strides=[1], requires_grad=0, device=cpu) = onnx::Constant[value={0.000462113}, onnx_name=\"/darknet/7/conv/Constant_3\"](), scope: model.YOLO_Quant::/torch.nn.modules.container.Sequential::darknet/model.CNNBlock::7/torch.ao.nn.quantized.modules.conv.Conv2d::conv # /usr/local/anaconda3/envs/machineLearning/lib/python3.11/site-packages/torch/_ops.py:692:0\n",
      "  %/darknet/7/conv/Constant_4_output_0 : Char(1, strides=[1], requires_grad=0, device=cpu) = onnx::Constant[value={0}, onnx_name=\"/darknet/7/conv/Constant_4\"](), scope: model.YOLO_Quant::/torch.nn.modules.container.Sequential::darknet/model.CNNBlock::7/torch.ao.nn.quantized.modules.conv.Conv2d::conv # /usr/local/anaconda3/envs/machineLearning/lib/python3.11/site-packages/torch/_ops.py:692:0\n",
      "  %/darknet/7/conv/DequantizeLinear_1_output_0 : Float(64, 32, 3, 3, strides=[288, 9, 3, 1], device=cpu) = onnx::DequantizeLinear[onnx_name=\"/darknet/7/conv/DequantizeLinear_1\"](%/darknet/7/conv/Constant_2_output_0, %/darknet/7/conv/Constant_3_output_0, %/darknet/7/conv/Constant_4_output_0), scope: model.YOLO_Quant::/torch.nn.modules.container.Sequential::darknet/model.CNNBlock::7/torch.ao.nn.quantized.modules.conv.Conv2d::conv # /usr/local/anaconda3/envs/machineLearning/lib/python3.11/site-packages/torch/_ops.py:692:0\n",
      "  %/darknet/7/conv/Constant_5_output_0 : Long(1, strides=[1], requires_grad=0, device=cpu) = onnx::Constant[value={1}, onnx_name=\"/darknet/7/conv/Constant_5\"](), scope: model.YOLO_Quant::/torch.nn.modules.container.Sequential::darknet/model.CNNBlock::7/torch.ao.nn.quantized.modules.conv.Conv2d::conv # /usr/local/anaconda3/envs/machineLearning/lib/python3.11/site-packages/torch/_ops.py:692:0\n",
      "  %/darknet/7/conv/ConstantOfShape_output_0 : Int(1, strides=[1], device=cpu) = onnx::ConstantOfShape[value={0}, onnx_name=\"/darknet/7/conv/ConstantOfShape\"](%/darknet/7/conv/Constant_5_output_0), scope: model.YOLO_Quant::/torch.nn.modules.container.Sequential::darknet/model.CNNBlock::7/torch.ao.nn.quantized.modules.conv.Conv2d::conv # /usr/local/anaconda3/envs/machineLearning/lib/python3.11/site-packages/torch/_ops.py:692:0\n",
      "  %/darknet/7/conv/Constant_6_output_0 : Int(64, strides=[1], requires_grad=0, device=cpu) = onnx::Constant[value=<Tensor>, onnx_name=\"/darknet/7/conv/Constant_6\"](), scope: model.YOLO_Quant::/torch.nn.modules.container.Sequential::darknet/model.CNNBlock::7/torch.ao.nn.quantized.modules.conv.Conv2d::conv # /usr/local/anaconda3/envs/machineLearning/lib/python3.11/site-packages/torch/_ops.py:692:0\n",
      "  %/darknet/7/conv/Constant_7_output_0 : Float(1, strides=[1], requires_grad=0, device=cpu) = onnx::Constant[value={1.11919e-07}, onnx_name=\"/darknet/7/conv/Constant_7\"](), scope: model.YOLO_Quant::/torch.nn.modules.container.Sequential::darknet/model.CNNBlock::7/torch.ao.nn.quantized.modules.conv.Conv2d::conv # /usr/local/anaconda3/envs/machineLearning/lib/python3.11/site-packages/torch/_ops.py:692:0\n",
      "  %/darknet/7/conv/Cast_1_output_0 : Int(1, strides=[1], device=cpu) = onnx::Cast[to=6, onnx_name=\"/darknet/7/conv/Cast_1\"](%/darknet/7/conv/ConstantOfShape_output_0), scope: model.YOLO_Quant::/torch.nn.modules.container.Sequential::darknet/model.CNNBlock::7/torch.ao.nn.quantized.modules.conv.Conv2d::conv # /usr/local/anaconda3/envs/machineLearning/lib/python3.11/site-packages/torch/_ops.py:692:0\n",
      "  %/darknet/7/conv/DequantizeLinear_2_output_0 : Float(64, strides=[1], device=cpu) = onnx::DequantizeLinear[onnx_name=\"/darknet/7/conv/DequantizeLinear_2\"](%/darknet/7/conv/Constant_6_output_0, %/darknet/7/conv/Constant_7_output_0, %/darknet/7/conv/Cast_1_output_0), scope: model.YOLO_Quant::/torch.nn.modules.container.Sequential::darknet/model.CNNBlock::7/torch.ao.nn.quantized.modules.conv.Conv2d::conv # /usr/local/anaconda3/envs/machineLearning/lib/python3.11/site-packages/torch/_ops.py:692:0\n",
      "  %/darknet/7/conv/Conv_output_0 : Float(1, 64, 22, 22, strides=[30976, 484, 22, 1], device=cpu) = onnx::Conv[dilations=[1, 1], group=1, kernel_shape=[3, 3], pads=[1, 1, 1, 1], strides=[1, 1], onnx_name=\"/darknet/7/conv/Conv\"](%/darknet/7/conv/DequantizeLinear_output_0, %/darknet/7/conv/DequantizeLinear_1_output_0, %/darknet/7/conv/DequantizeLinear_2_output_0), scope: model.YOLO_Quant::/torch.nn.modules.container.Sequential::darknet/model.CNNBlock::7/torch.ao.nn.quantized.modules.conv.Conv2d::conv # /usr/local/anaconda3/envs/machineLearning/lib/python3.11/site-packages/torch/_ops.py:692:0\n",
      "  %/darknet/7/conv/Constant_8_output_0 : Float(requires_grad=0, device=cpu) = onnx::Constant[value={9.44525e-05}, onnx_name=\"/darknet/7/conv/Constant_8\"](), scope: model.YOLO_Quant::/torch.nn.modules.container.Sequential::darknet/model.CNNBlock::7/torch.ao.nn.quantized.modules.conv.Conv2d::conv # /usr/local/anaconda3/envs/machineLearning/lib/python3.11/site-packages/torch/_ops.py:692:0\n",
      "  %/darknet/7/conv/Constant_9_output_0 : Byte(requires_grad=0, device=cpu) = onnx::Constant[value={134}, onnx_name=\"/darknet/7/conv/Constant_9\"](), scope: model.YOLO_Quant::/torch.nn.modules.container.Sequential::darknet/model.CNNBlock::7/torch.ao.nn.quantized.modules.conv.Conv2d::conv # /usr/local/anaconda3/envs/machineLearning/lib/python3.11/site-packages/torch/_ops.py:692:0\n",
      "  %/darknet/7/conv/QuantizeLinear_output_0 : Byte(1, 64, 22, 22, strides=[30976, 484, 22, 1], device=cpu) = onnx::QuantizeLinear[onnx_name=\"/darknet/7/conv/QuantizeLinear\"](%/darknet/7/conv/Conv_output_0, %/darknet/7/conv/Constant_8_output_0, %/darknet/7/conv/Constant_9_output_0), scope: model.YOLO_Quant::/torch.nn.modules.container.Sequential::darknet/model.CNNBlock::7/torch.ao.nn.quantized.modules.conv.Conv2d::conv # /usr/local/anaconda3/envs/mach"
     ]
    },
    {
     "ename": "KeyboardInterrupt",
     "evalue": "",
     "output_type": "error",
     "traceback": [
      "\u001B[0;31m---------------------------------------------------------------------------\u001B[0m",
      "\u001B[0;31mKeyboardInterrupt\u001B[0m                         Traceback (most recent call last)",
      "Cell \u001B[0;32mIn[40], line 3\u001B[0m\n\u001B[1;32m      1\u001B[0m input_size \u001B[38;5;241m=\u001B[39m (\u001B[38;5;241m1\u001B[39m, \u001B[38;5;241m1\u001B[39m, \u001B[38;5;241m88\u001B[39m, \u001B[38;5;241m88\u001B[39m)\n\u001B[1;32m      2\u001B[0m input_tensor \u001B[38;5;241m=\u001B[39m torch\u001B[38;5;241m.\u001B[39mrandn(input_size)\n\u001B[0;32m----> 3\u001B[0m torch\u001B[38;5;241m.\u001B[39monnx\u001B[38;5;241m.\u001B[39mexport(model_static_quantized, input_tensor, \u001B[38;5;124m\"\u001B[39m\u001B[38;5;124mmodel.onnx\u001B[39m\u001B[38;5;124m\"\u001B[39m, verbose\u001B[38;5;241m=\u001B[39m\u001B[38;5;28;01mTrue\u001B[39;00m, opset_version\u001B[38;5;241m=\u001B[39m\u001B[38;5;241m11\u001B[39m)\n",
      "File \u001B[0;32m/usr/local/anaconda3/envs/machineLearning/lib/python3.11/site-packages/torch/onnx/utils.py:516\u001B[0m, in \u001B[0;36mexport\u001B[0;34m(model, args, f, export_params, verbose, training, input_names, output_names, operator_export_type, opset_version, do_constant_folding, dynamic_axes, keep_initializers_as_inputs, custom_opsets, export_modules_as_functions, autograd_inlining)\u001B[0m\n\u001B[1;32m    189\u001B[0m \u001B[38;5;129m@_beartype\u001B[39m\u001B[38;5;241m.\u001B[39mbeartype\n\u001B[1;32m    190\u001B[0m \u001B[38;5;28;01mdef\u001B[39;00m \u001B[38;5;21mexport\u001B[39m(\n\u001B[1;32m    191\u001B[0m     model: Union[torch\u001B[38;5;241m.\u001B[39mnn\u001B[38;5;241m.\u001B[39mModule, torch\u001B[38;5;241m.\u001B[39mjit\u001B[38;5;241m.\u001B[39mScriptModule, torch\u001B[38;5;241m.\u001B[39mjit\u001B[38;5;241m.\u001B[39mScriptFunction],\n\u001B[0;32m   (...)\u001B[0m\n\u001B[1;32m    208\u001B[0m     autograd_inlining: Optional[\u001B[38;5;28mbool\u001B[39m] \u001B[38;5;241m=\u001B[39m \u001B[38;5;28;01mTrue\u001B[39;00m,\n\u001B[1;32m    209\u001B[0m ) \u001B[38;5;241m-\u001B[39m\u001B[38;5;241m>\u001B[39m \u001B[38;5;28;01mNone\u001B[39;00m:\n\u001B[1;32m    210\u001B[0m \u001B[38;5;250m    \u001B[39m\u001B[38;5;124mr\u001B[39m\u001B[38;5;124;03m\"\"\"Exports a model into ONNX format.\u001B[39;00m\n\u001B[1;32m    211\u001B[0m \n\u001B[1;32m    212\u001B[0m \u001B[38;5;124;03m    If ``model`` is not a :class:`torch.jit.ScriptModule` nor a\u001B[39;00m\n\u001B[0;32m   (...)\u001B[0m\n\u001B[1;32m    513\u001B[0m \u001B[38;5;124;03m            All errors are subclasses of :class:`errors.OnnxExporterError`.\u001B[39;00m\n\u001B[1;32m    514\u001B[0m \u001B[38;5;124;03m    \"\"\"\u001B[39;00m\n\u001B[0;32m--> 516\u001B[0m     _export(\n\u001B[1;32m    517\u001B[0m         model,\n\u001B[1;32m    518\u001B[0m         args,\n\u001B[1;32m    519\u001B[0m         f,\n\u001B[1;32m    520\u001B[0m         export_params,\n\u001B[1;32m    521\u001B[0m         verbose,\n\u001B[1;32m    522\u001B[0m         training,\n\u001B[1;32m    523\u001B[0m         input_names,\n\u001B[1;32m    524\u001B[0m         output_names,\n\u001B[1;32m    525\u001B[0m         operator_export_type\u001B[38;5;241m=\u001B[39moperator_export_type,\n\u001B[1;32m    526\u001B[0m         opset_version\u001B[38;5;241m=\u001B[39mopset_version,\n\u001B[1;32m    527\u001B[0m         do_constant_folding\u001B[38;5;241m=\u001B[39mdo_constant_folding,\n\u001B[1;32m    528\u001B[0m         dynamic_axes\u001B[38;5;241m=\u001B[39mdynamic_axes,\n\u001B[1;32m    529\u001B[0m         keep_initializers_as_inputs\u001B[38;5;241m=\u001B[39mkeep_initializers_as_inputs,\n\u001B[1;32m    530\u001B[0m         custom_opsets\u001B[38;5;241m=\u001B[39mcustom_opsets,\n\u001B[1;32m    531\u001B[0m         export_modules_as_functions\u001B[38;5;241m=\u001B[39mexport_modules_as_functions,\n\u001B[1;32m    532\u001B[0m         autograd_inlining\u001B[38;5;241m=\u001B[39mautograd_inlining,\n\u001B[1;32m    533\u001B[0m     )\n",
      "File \u001B[0;32m/usr/local/anaconda3/envs/machineLearning/lib/python3.11/site-packages/torch/onnx/utils.py:1675\u001B[0m, in \u001B[0;36m_export\u001B[0;34m(model, args, f, export_params, verbose, training, input_names, output_names, operator_export_type, export_type, opset_version, do_constant_folding, dynamic_axes, keep_initializers_as_inputs, fixed_batch_size, custom_opsets, add_node_names, onnx_shape_inference, export_modules_as_functions, autograd_inlining)\u001B[0m\n\u001B[1;32m   1670\u001B[0m proto \u001B[38;5;241m=\u001B[39m onnx_proto_utils\u001B[38;5;241m.\u001B[39m_add_onnxscript_fn(\n\u001B[1;32m   1671\u001B[0m     proto,\n\u001B[1;32m   1672\u001B[0m     custom_opsets,\n\u001B[1;32m   1673\u001B[0m )\n\u001B[1;32m   1674\u001B[0m \u001B[38;5;28;01mif\u001B[39;00m verbose:\n\u001B[0;32m-> 1675\u001B[0m     torch\u001B[38;5;241m.\u001B[39monnx\u001B[38;5;241m.\u001B[39mlog(\u001B[38;5;124m\"\u001B[39m\u001B[38;5;124mExported graph: \u001B[39m\u001B[38;5;124m\"\u001B[39m, graph)\n\u001B[1;32m   1676\u001B[0m onnx_proto_utils\u001B[38;5;241m.\u001B[39m_export_file(proto, f, export_type, export_map)\n\u001B[1;32m   1677\u001B[0m \u001B[38;5;66;03m# The ONNX checker only works for ONNX graph. So if the operator_export_type is not ONNX,\u001B[39;00m\n\u001B[1;32m   1678\u001B[0m \u001B[38;5;66;03m# we can skip this check.\u001B[39;00m\n\u001B[1;32m   1679\u001B[0m \u001B[38;5;66;03m# If large model format export is enabled, proto will only contain data location instead of\u001B[39;00m\n\u001B[1;32m   1680\u001B[0m \u001B[38;5;66;03m# raw data and _check_onnx_proto() will fail because it can only handle the raw ONNX proto\u001B[39;00m\n\u001B[1;32m   1681\u001B[0m \u001B[38;5;66;03m# string in memory.\u001B[39;00m\n",
      "\u001B[0;31mKeyboardInterrupt\u001B[0m: "
     ]
    }
   ],
   "source": [
    "input_size = (1, 1, 88, 88)\n",
    "input_tensor = torch.randn(input_size)\n",
    "torch.onnx.export(model_static_quantized, input_tensor, \"model.onnx\", verbose=True, opset_version=11)"
   ],
   "metadata": {
    "collapsed": false,
    "ExecuteTime": {
     "end_time": "2024-01-05T21:52:14.280878Z",
     "start_time": "2024-01-05T14:38:06.182419Z"
    }
   },
   "id": "3bbc8fba835265c"
  },
  {
   "cell_type": "code",
   "execution_count": 17,
   "outputs": [
    {
     "name": "stdout",
     "output_type": "stream",
     "text": [
      "model size: 0.000MB\n"
     ]
    }
   ],
   "source": [
    "print_model_size(model_static_quantized)"
   ],
   "metadata": {
    "collapsed": false,
    "ExecuteTime": {
     "end_time": "2024-01-05T13:54:56.092103Z",
     "start_time": "2024-01-05T13:54:56.079940Z"
    }
   },
   "id": "e1c48bec46ec57e6"
  },
  {
   "cell_type": "code",
   "execution_count": null,
   "outputs": [],
   "source": [
    "# Replace 'video.mp4' with the actual path to your video file\n",
    "video_path = 'video2.MOV'\n",
    "\n",
    "# Create a VideoCapture object\n",
    "cap = cv2.VideoCapture(video_path)\n",
    "\n",
    "# Check if the video is opened successfully\n",
    "if not cap.isOpened():\n",
    "    print(\"Error opening video file\")\n",
    "    exit(1)"
   ],
   "metadata": {
    "collapsed": false
   },
   "id": "647f67c1bf53f19a"
  },
  {
   "cell_type": "code",
   "execution_count": null,
   "outputs": [],
   "source": [
    "def iterate_video(transform):\n",
    "    # Read and process frames one by one\n",
    "    while True:\n",
    "        # Capture the current frame\n",
    "        ret, frame = cap.read()\n",
    "        # Convert the image to grayscale using cv2.cvtColor()\n",
    "        grey_frame = cv2.cvtColor(frame, cv2.COLOR_BGR2GRAY)\n",
    "    \n",
    "        # Check if the frame was captured correctly\n",
    "        if not ret:\n",
    "            break\n",
    "    \n",
    "        # Predict frame\n",
    "        grey_frame = transform(grey_frame)\n",
    "        with torch.no_grad():\n",
    "            boxes = model_static_quantized(grey_frame.unsqueeze(0).to(DEVICE))\n",
    "            boxes = cellboxes_to_boxes(boxes)\n",
    "            #boxes[0] = non_max_suppression(boxes[0], 0.4)\n",
    "            for box in boxes[0]:\n",
    "                box[1] = frame.shape[1]*box[1]\n",
    "                box[2] = frame.shape[0]*box[2]\n",
    "                box[3] = frame.shape[1]*box[3]\n",
    "                box[4] = frame.shape[0]*box[4]\n",
    "                print(f\"Box: prob:{int(box[0])}, x:{int(box[1])}, y:{int(box[2])}, w:{int(box[3])}, h:{int(box[4])}\")\n",
    "                cv2.rectangle(frame, (int(box[1]-0.5*box[3]),int(box[2]-0.5*box[4])), (int(box[1]+0.5*box[3]),int(box[2]+0.5*box[4])), (255, 255, 255), 4)\n",
    "    \n",
    "        # Display the current frame\n",
    "        cv2.imshow('Video', frame)\n",
    "    \n",
    "        # Wait for a key press to capture the next frame or quit\n",
    "        key = cv2.waitKey(1) & 0xFF\n",
    "        if key == 27:  # Esc key\n",
    "            break\n",
    "    \n",
    "    # Release the video capture object and close all windows\n",
    "    cv2.destroyWindow('Video')\n",
    "    cv2.waitKey(1)\n",
    "    cap.release()"
   ],
   "metadata": {
    "collapsed": false
   },
   "id": "3ca005f8ebd5d746"
  },
  {
   "cell_type": "code",
   "execution_count": null,
   "outputs": [],
   "source": [
    "class Compose(object):\n",
    "    def __init__(self, transforms):\n",
    "        self.transforms = transforms\n",
    "\n",
    "    def __call__(self, img):\n",
    "        for t in self.transforms:\n",
    "            img = t(img)\n",
    "        return img\n",
    "\n",
    "transform = Compose([transforms.ToTensor(),transforms.Resize((IMAGE_SIZE, IMAGE_SIZE))])"
   ],
   "metadata": {
    "collapsed": false
   },
   "id": "2cc03a81059e94fa"
  },
  {
   "cell_type": "code",
   "execution_count": null,
   "outputs": [],
   "source": [
    "iterate_video(transform)"
   ],
   "metadata": {
    "collapsed": false
   },
   "id": "bff6d9dc392b4ec5"
  },
  {
   "cell_type": "code",
   "execution_count": null,
   "outputs": [],
   "source": [
    "summary(model,input_size=[(1,88,88)])"
   ],
   "metadata": {
    "collapsed": false
   },
   "id": "541c736737c594ab"
  }
 ],
 "metadata": {
  "kernelspec": {
   "display_name": "Python 3",
   "language": "python",
   "name": "python3"
  },
  "language_info": {
   "codemirror_mode": {
    "name": "ipython",
    "version": 2
   },
   "file_extension": ".py",
   "mimetype": "text/x-python",
   "name": "python",
   "nbconvert_exporter": "python",
   "pygments_lexer": "ipython2",
   "version": "2.7.6"
  }
 },
 "nbformat": 4,
 "nbformat_minor": 5
}
